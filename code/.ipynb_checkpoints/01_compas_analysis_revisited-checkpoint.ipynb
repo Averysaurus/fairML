{
 "cells": [
  {
   "cell_type": "markdown",
   "metadata": {},
   "source": [
    "# COMPAS Analysis revisisted "
   ]
  },
  {
   "cell_type": "code",
   "execution_count": 1,
   "metadata": {},
   "outputs": [
    {
     "data": {
      "text/html": [
       "\n",
       "   <iframe width=\"560\" height=\"315\" src=\"https://www.youtube.com/embed/Gi4YeRqfb24\" frameborder=\"0\" allow=\"accelerometer; autoplay; encrypted-media; gyroscope; picture-in-picture\" allowfullscreen></iframe>\n"
      ],
      "text/plain": [
       "<IPython.core.display.HTML object>"
      ]
     },
     "execution_count": 1,
     "metadata": {},
     "output_type": "execute_result"
    }
   ],
   "source": [
    "from IPython.display import HTML\n",
    "\n",
    "HTML(\"\"\"\n",
    "   <iframe width=\"560\" height=\"315\" src=\"https://www.youtube.com/embed/Gi4YeRqfb24\" frameborder=\"0\" allow=\"accelerometer; autoplay; encrypted-media; gyroscope; picture-in-picture\" allowfullscreen></iframe>\n",
    "\"\"\")"
   ]
  },
  {
   "cell_type": "markdown",
   "metadata": {},
   "source": [
    "Watch the above PBS video clip to get some sense of how algorithms influence mass incarceration."
   ]
  },
  {
   "cell_type": "markdown",
   "metadata": {},
   "source": [
    "\n",
    "We modified the ProPublica's analysis of the COMPAS Recidivism Risk Scores. We incorporated [the methodology](https://www.propublica.org/article/how-we-analyzed-the-compas-recidivism-algorithm/) section of their project into the same notebook. We also added our own code, comments, and analysis to and brought in the recent discussions on the COMPAS. If you were interested in the ProPublica's original code, please visit [the ProPublica's compas-analysis Git repository](https://github.com/propublica/compas-analysis).\n",
    "\n",
    "The key objective of the project was whether the [COMPAS](https://en.wikipedia.org/wiki/COMPAS_(software)) (Correctional Offender Management Profiling for Alternative Sanctions) algorithm, the proprietary recidivism algorithm developed by Northpointe, was biased against certain groups. Here, recidivism was defined \"as a new arrest within two years\" based on [Northpointe's practitioners guide](http://www.crj.org/assets/2017/07/9_Machine_bias_rejoinder.pdf). The COMPAS algorithm is \"one of the most popular scores used nationwide\" and \"is increasingly being used in pretrial and sentencing\" (front-end of the criminal justice system).\n",
    "\n",
    "To do so, ProPublica examined \"more than 10,000 criminal defendants\" in Broward County, Florida\", a large jurisdiction using the COMPAS tool \"in pretrial release decisions\" and Florida has strong open-record laws. They originally acquired data for 18,610 people who were scored by the algorithm in 2013 and 2014 and then reduced it to 11,757 people who were assessed at the pretrial stage. They merged this data with the criminal records from the Broward County Clerk's Office to document each defendant's criminal history and the jail records from the Broward County Sheriff's Office to compile their record of incarceration, and applied the race classifications used by the Broward County Sheriff's Office to determine their race. \n",
    "\n",
    "**Key scores**\n",
    "All of these scores for each defendant were measured on a 1-10 scale, with ten being the highest risk. 1-4: Low, 5-7: Medium, 8-10: High.\n",
    "\n",
    "1. Risk of Recidivism \n",
    "2. Risk of violence \n",
    "3. Risk of Failure to Appear \n",
    "\n",
    "They then \"compared their predicted recidivism rates with the rate that actually occurred over a two-year period\". \"When most defendants are booked in jail, they respond to a COMPAS questionnaire.\" Theirs answers are used to \"generate several scores including predictions of \"Risk of Recidivism\" and \"Risk of Violent Recidivism.\"\n",
    "\n",
    "ProPublica found both significant degrees of false positives and false negatives.\n",
    "\n",
    "**Biased predictions**\n",
    "\n",
    "1. False positives: \n",
    "    - \"Black defendants were far more likely than white defendants to be incorrectly judged to be at a higher risk of recidivism.\"\n",
    "2. False negatives: \n",
    "    - \"White defendants were more likely than black defendants to be incorrectly flagged as low risk.\"\n"
   ]
  },
  {
   "cell_type": "markdown",
   "metadata": {},
   "source": [
    "**Previous research**\n",
    "\n",
    "https://papers.ssrn.com/sol3/papers.cfm?abstract_id=2687339\n",
    "\n",
    "Jennifer Skeem at University of California, Berkeley \n",
    " \n",
    "\"The authors found that the average risk score for black offenders was higher than for white offenders, but that concluded the differences were not attributable to bias.\"\n",
    "\n",
    "https://www.researchgate.net/publication/258920739_Thirty_Years_of_Research_on_the_Level_of_Service_Scales_A_Meta-Analytic_Examination_of_Predictive_Accuracy_and_Sources_of_Variability\n",
    "\n",
    "\"That study found that “ethnic minorities have higher LS scores than nonminorities.” The study authors, who are Canadian, noted that racial disparities were more consistently found in the U.S. than in Canada. “One possibility may be that systematic bias within the justice system may distort the measurement of ‘true’ recidivism,” they wrote.\"\n",
    "\n",
    "\"Kevin Whiteacre of the Salvation Army Correctional Services Program, found that 42.7 percent of African Americans were incorrectly classified as high risk, compared with 27.7 percent of Caucasians and 25 percent of Hispanics. That study urged correctional facilities to investigate the their use of the scores independently using a simple contingency table approach that we follow later in this study.\"\n",
    "\n",
    "Rejoinder to the Propublic's analysis \n",
    "\n",
    "http://www.crj.org/assets/2017/07/9_Machine_bias_rejoinder.pdf"
   ]
  },
  {
   "cell_type": "code",
   "execution_count": 2,
   "metadata": {},
   "outputs": [],
   "source": [
    "## Setup"
   ]
  },
  {
   "cell_type": "code",
   "execution_count": 3,
   "metadata": {},
   "outputs": [
    {
     "name": "stderr",
     "output_type": "stream",
     "text": [
      "/home/jae/anaconda3/lib/python3.6/site-packages/rpy2/robjects/pandas2ri.py:14: FutureWarning: pandas.core.index is deprecated and will be removed in a future version.  The public classes are available in the top-level namespace.\n",
      "  from pandas.core.index import Index as PandasIndex\n"
     ]
    }
   ],
   "source": [
    "################# To use R in Jupyter Notebook ###############\n",
    "import rpy2.ipython\n",
    "%load_ext rpy2.ipython\n",
    "\n",
    "################# To ignore warnings ##################\n",
    "import warnings\n",
    "warnings.filterwarnings('ignore')\n",
    "\n",
    "################## To have multiple outputs ###################\n",
    "from IPython.core.interactiveshell import InteractiveShell\n",
    "InteractiveShell.ast_node_interactivity = \"all\" \n",
    "\n",
    "from IPython.display import display"
   ]
  },
  {
   "cell_type": "markdown",
   "metadata": {},
   "source": [
    "## Load R packages "
   ]
  },
  {
   "cell_type": "code",
   "execution_count": 4,
   "metadata": {},
   "outputs": [],
   "source": [
    "%%R\n",
    "if (!require(\"pacman\")) install.packages(\"pacman\")\n",
    "pacman::p_load(\n",
    " tidyverse, # tidyverse packages \n",
    " conflicted, # an alternative conflict resolution strategy \n",
    " ggthemes, # for more themes \n",
    " patchwork, # for arranging ggplots\n",
    " scales, # for rescales \n",
    " survival, # for survival analysis\n",
    " ggfortify, # # data viz tools for statistical analysis\n",
    " grid, # for adding grids \n",
    " gridExtra, # for grid graphics \n",
    " broom, # for modeling\n",
    " reticulate # Python enginge for R markdown\n",
    ")\n",
    "\n",
    "# To avoid conflicts \n",
    "conflict_prefer(\"filter\", \"dplyr\") \n",
    "conflict_prefer(\"select\", \"dplyr\") "
   ]
  },
  {
   "cell_type": "markdown",
   "metadata": {},
   "source": [
    "## Loading the Data \n",
    "\n",
    "We select fields for severity of charge, number of priors, demographics, age, sex, compas scores, and whether each person was accused of a crime within two years.\n",
    "\n",
    "- N of observations (rows): 7,214\n",
    "- N of variables (columns): 53"
   ]
  },
  {
   "cell_type": "code",
   "execution_count": 5,
   "metadata": {},
   "outputs": [],
   "source": [
    "%%R\n",
    "two_years <- read_csv(\"/home/jae/bias-in-ml/compas/data/compas-scores-two-years.csv\")\n",
    "two_yaers_violent <- read_csv(\"/home/jae/bias-in-ml/compas/data/compas-scores-two-years-violent.csv\")\n",
    "\n",
    "cox_data <- read_csv(\"/home/jae/bias-in-ml/compas/data/cox-parsed.csv\") %>%\n",
    "  filter(score_text != \"N/A\") %>%\n",
    "  filter(end > start) %>%\n",
    "  mutate(race_factor = factor(race,\n",
    "                                  labels = c(\"African-American\", \n",
    "                                             \"Asian\",\n",
    "                                             \"Caucasian\", \n",
    "                                             \"Hispanic\", \n",
    "                                             \"Native American\",\n",
    "                                             \"Other\"))) %>%\n",
    "        within(race_factor <- relevel(race_factor, ref = 3)) %>%\n",
    "        mutate(score_factor = factor(score_text)) %>%\n",
    "        within(score_factor <- relevel(score_factor, ref=2))"
   ]
  },
  {
   "cell_type": "markdown",
   "metadata": {},
   "source": [
    "## Racial Bias in Compass\n",
    "\n",
    "### Wrangling data \n",
    "\n",
    "- Not all of the observations are useable for the first round of analysis.\n",
    "- There are a number of reasons to remove rows because of missing data:\n",
    "    - If the charge date of a defendants Compas scored crime was not within 30 days from when the person was arrested, we assume that because of data quality reasons, that we do not have the right offense.\n",
    "    - We coded the recidivist flag -- is_recid -- to be -1 if we could not find a compas case at all.\n",
    "    - In a similar vein, ordinary traffic offenses -- those with a c_charge_degree of 'O' -- will not result in Jail time are removed (only two of them).\n",
    "    - We filtered the underlying data from Broward county to include only those rows representing people who had either recidivated in two years, or had at least two years outside of a correctional facility."
   ]
  },
  {
   "cell_type": "code",
   "execution_count": 6,
   "metadata": {},
   "outputs": [
    {
     "data": {
      "text/plain": [
       "[1] \"The number of reduced variables is 40\"\n",
       "[1] \"The number of reduced rows is 1042\"\n"
      ]
     },
     "metadata": {},
     "output_type": "display_data"
    }
   ],
   "source": [
    "%%R\n",
    "\n",
    "# Wrangling data  \n",
    "df <- two_years %>% \n",
    "  select(age, c_charge_degree, race, age_cat, score_text, sex, priors_count, days_b_screening_arrest, decile_score, is_recid, two_year_recid, c_jail_in, c_jail_out) %>% # Select variables\n",
    "        filter(days_b_screening_arrest <= 30,\n",
    "               days_b_screening_arrest >= -30, \n",
    "               is_recid != -1,\n",
    "               c_charge_degree != \"O\",\n",
    "               score_text != 'N/A') # Filter rows  \n",
    "\n",
    "print(paste(\"The number of reduced variables is\", ncol(two_years) - ncol(df)))\n",
    "print(paste(\"The number of reduced rows is\", nrow(two_years) - nrow(df)))\n"
   ]
  },
  {
   "cell_type": "code",
   "execution_count": 7,
   "metadata": {},
   "outputs": [
    {
     "data": {
      "text/plain": [
       "[1] \"Factorized age\"\n",
       "[1] \"Factorized race\"\n",
       "[1] \"Factorized sex\"\n"
      ]
     },
     "metadata": {},
     "output_type": "display_data"
    }
   ],
   "source": [
    "%%R\n",
    "factorize <- function(df){\n",
    "\n",
    "# Turn age into a factor \n",
    "df$age_cat <- factor(df$age_cat) \n",
    "\n",
    "# Check levels \n",
    "print(\"Factorized age\")\n",
    "\n",
    "# Turn race into a factor \n",
    "df$race <- factor(df$race, levels = c(\"Caucasian\",\"African-American\",\"Hispanic\",\"Other\",\"Asian\",\"Native American\"))\n",
    "\n",
    "# Check levels\n",
    "print(\"Factorized race\")\n",
    "\n",
    "# Turn sex into a factor \n",
    "df$sex <- factor(df$sex, levels = c(\"Male\",\"Female\"))\n",
    "\n",
    "# Check levels\n",
    "print(\"Factorized sex\")\n",
    "\n",
    "return(df)\n",
    "}\n",
    "\n",
    "df <- factorize(df)"
   ]
  },
  {
   "cell_type": "markdown",
   "metadata": {},
   "source": [
    "### Descriptive analysis\n",
    "\n",
    "Higher COMPAS scores are slightly correlated with a longer length of stay."
   ]
  },
  {
   "cell_type": "code",
   "execution_count": 8,
   "metadata": {},
   "outputs": [
    {
     "data": {
      "text/plain": [
       "[1] 0.2073297\n"
      ]
     },
     "metadata": {},
     "output_type": "display_data"
    }
   ],
   "source": [
    "%%R\n",
    "df$length_of_stay <- as.numeric(as.Date(df$c_jail_out) - as.Date(df$c_jail_in))\n",
    "\n",
    "cor(df$length_of_stay, df$decile_score)"
   ]
  },
  {
   "cell_type": "markdown",
   "metadata": {},
   "source": [
    "After filtering we have the following demographic breakdown:\n",
    "\n",
    "- Age"
   ]
  },
  {
   "cell_type": "code",
   "execution_count": 9,
   "metadata": {},
   "outputs": [
    {
     "data": {
      "image/png": "[encoded data removed]"
     },
     "metadata": {},
     "output_type": "display_data"
    }
   ],
   "source": [
    "%%R\n",
    "\n",
    "# Set theme \n",
    "theme_set(theme_base())\n",
    "  \n",
    "df %>%\n",
    "  group_by(age_cat) %>%\n",
    "  count() %>%\n",
    "  ggplot(aes(x = age_cat, y = n)) +\n",
    "    geom_col() +\n",
    "  labs(x = \"Age\",\n",
    "       y = \"Count\",\n",
    "       title = \"Age distribution\")"
   ]
  },
  {
   "cell_type": "markdown",
   "metadata": {},
   "source": [
    "- Race "
   ]
  },
  {
   "cell_type": "code",
   "execution_count": 10,
   "metadata": {},
   "outputs": [
    {
     "data": {
      "image/png": "[encoded data removed]"
     },
     "metadata": {},
     "output_type": "display_data"
    }
   ],
   "source": [
    "%%R\n",
    "\n",
    "df %>%\n",
    "  group_by(race) %>%\n",
    "  count() %>%\n",
    "  ggplot(aes(x = fct_reorder(race, n), y = n)) +\n",
    "    geom_col() +\n",
    "    coord_flip() +\n",
    "    labs(x = \"Race\",\n",
    "         y = \"Count\",\n",
    "         title = \"Race distribution (count)\")"
   ]
  },
  {
   "cell_type": "code",
   "execution_count": 11,
   "metadata": {},
   "outputs": [
    {
     "data": {
      "image/png": "[encoded data removed]"
     },
     "metadata": {},
     "output_type": "display_data"
    }
   ],
   "source": [
    "%%R\n",
    "\n",
    "df %>%\n",
    "  group_by(race) %>%\n",
    "  summarise(n = n()) %>%\n",
    "  mutate(freq = n / sum(n)) %>%\n",
    "  ggplot(aes(x = fct_reorder(race, freq), y = freq)) +\n",
    "    geom_col() +\n",
    "    coord_flip() +\n",
    "    scale_y_continuous(labels = percent) +\n",
    "    labs(x = \"Race\",\n",
    "         y = \"Percentage\",\n",
    "         title = \"Race distribution (percentage)\")"
   ]
  },
  {
   "cell_type": "markdown",
   "metadata": {},
   "source": [
    "- Race and sex"
   ]
  },
  {
   "cell_type": "code",
   "execution_count": 12,
   "metadata": {},
   "outputs": [
    {
     "data": {
      "image/png": "[encoded data removed]"
     },
     "metadata": {},
     "output_type": "display_data"
    }
   ],
   "source": [
    "%%R\n",
    "\n",
    "df %>%\n",
    "  group_by(sex, race) %>%\n",
    "  summarise(n = n()) %>%\n",
    "  mutate(freq = n / sum(n)) %>%\n",
    "  ggplot(aes(x = fct_reorder(race, freq), y = freq, fill = sex)) +\n",
    "    geom_col(position = \"dodge\") +\n",
    "    coord_flip() +\n",
    "    scale_y_continuous(labels = percent) +\n",
    "    labs(x = \"Race\",\n",
    "         y = \"Percentage\",\n",
    "         title = \"Race and sex distribution (percentage)\",\n",
    "         fill = \"Sex\")"
   ]
  },
  {
   "cell_type": "markdown",
   "metadata": {},
   "source": [
    "- Score text"
   ]
  },
  {
   "cell_type": "code",
   "execution_count": 13,
   "metadata": {},
   "outputs": [
    {
     "data": {
      "image/png": "[encoded data removed]"
     },
     "metadata": {},
     "output_type": "display_data"
    }
   ],
   "source": [
    "%%R\n",
    "\n",
    "# Turn age into a factor \n",
    "df$score_text <- factor(df$score_text, levels = c(\"Low\", \"Medium\", \"High\"))\n",
    "\n",
    "# Check levesl \n",
    "levels(df$score_text)\n",
    "\n",
    "df %>%\n",
    "  group_by(score_text) %>%\n",
    "  count() %>%\n",
    "  ggplot(aes(x = score_text, y = n)) +\n",
    "    geom_col() +\n",
    "    labs(x = \"Score\",\n",
    "         y = \"Count\",\n",
    "\n",
    "         title = \"Score distribution\")"
   ]
  },
  {
   "cell_type": "code",
   "execution_count": 14,
   "metadata": {},
   "outputs": [
    {
     "data": {
      "text/plain": [
       "[1] 45.51199\n"
      ]
     },
     "metadata": {},
     "output_type": "display_data"
    }
   ],
   "source": [
    "%%R\n",
    "\n",
    "nrow(filter(df, two_year_recid == 1)) / nrow(df) * 100"
   ]
  },
  {
   "cell_type": "markdown",
   "metadata": {},
   "source": [
    "Judges are often presented with two sets of scores from the Compas system -- one that classifies people into High, Medium and Low risk, and a corresponding decile score. There is a clear downward trend in the decile scores as those scores increase for white defendants.\n"
   ]
  },
  {
   "cell_type": "code",
   "execution_count": 15,
   "metadata": {},
   "outputs": [
    {
     "data": {
      "image/png": "[encoded data removed]"
     },
     "metadata": {},
     "output_type": "display_data"
    }
   ],
   "source": [
    "%%R\n",
    "\n",
    "df %>%\n",
    "  ggplot(aes(ordered(decile_score))) + \n",
    "          geom_bar() +\n",
    "          facet_wrap(~race, nrow = 2) +\n",
    "          labs(x = \"Decile Score\",\n",
    "               y = \"Count\",\n",
    "               Title = \"Defendant's Decile Score\")"
   ]
  },
  {
   "cell_type": "markdown",
   "metadata": {},
   "source": [
    "- Turn other factor variables into factors "
   ]
  },
  {
   "cell_type": "code",
   "execution_count": 16,
   "metadata": {},
   "outputs": [],
   "source": [
    "%%R\n",
    "\n",
    "df <- df %>%\n",
    "  mutate(c_charge_degree = factor(c_charge_degree)) %>%\n",
    "  rename(crime = c_charge_degree,\n",
    "         gender = sex,\n",
    "         score = score_text)\n"
   ]
  },
  {
   "cell_type": "markdown",
   "metadata": {},
   "source": [
    "### Modeling \n",
    "\n",
    "After filtering out bad rows, our first question is whether there is a significant difference in Compas scores between races. To do so we need to change some variables into factors, and run a logistic regression, comparing low scores to high scores."
   ]
  },
  {
   "cell_type": "code",
   "execution_count": 17,
   "metadata": {},
   "outputs": [
    {
     "data": {
      "image/png": "[encoded data removed]"
     },
     "metadata": {},
     "output_type": "display_data"
    }
   ],
   "source": [
    "%%R\n",
    "\n",
    "model_colors <- RColorBrewer::brewer.pal(3, \"Set1\")\n",
    "\n",
    "model <- glm(score ~ gender + age_cat + race + priors_count + crime + two_year_recid, family = \"binomial\", data=df)\n",
    "\n",
    "model %>% \n",
    "  tidy(conf.int = TRUE) %>%  # with confidence intervals \n",
    "  filter(term != \"(Intercept)\") %>%\n",
    "  ggplot(aes(x = fct_reorder(term, estimate), y = estimate, ymax = conf.high, ymin = conf.low)) +\n",
    "  geom_pointrange() +\n",
    "  coord_flip() +\n",
    "  labs(y = \"Estimate\", x = \"\")"
   ]
  },
  {
   "cell_type": "markdown",
   "metadata": {},
   "source": [
    "Black defendants are 45% more likely than white defendants to receive a higher score correcting for the seriousness of their crime, previous arrests, and future criminal behavior."
   ]
  },
  {
   "cell_type": "code",
   "execution_count": 18,
   "metadata": {},
   "outputs": [
    {
     "data": {
      "text/plain": [
       "[1] 1.452841\n"
      ]
     },
     "metadata": {},
     "output_type": "display_data"
    }
   ],
   "source": [
    "%%R\n",
    "\n",
    "control <- exp(-1.52554) / (1 + exp(-1.52554))\n",
    "exp(0.47721) / (1 - control + (control * exp(0.47721)))"
   ]
  },
  {
   "cell_type": "markdown",
   "metadata": {},
   "source": [
    "Women are 19.4% more likely than men to get a higher score."
   ]
  },
  {
   "cell_type": "code",
   "execution_count": 19,
   "metadata": {},
   "outputs": [
    {
     "data": {
      "text/plain": [
       "[1] 1.194798\n"
      ]
     },
     "metadata": {},
     "output_type": "display_data"
    }
   ],
   "source": [
    "%%R\n",
    "\n",
    "exp(0.22127) / (1 - control + (control * exp(0.22127)))"
   ]
  },
  {
   "cell_type": "markdown",
   "metadata": {},
   "source": [
    "Most surprisingly, people under 25 are 2.5 times as likely to get a higher score as middle aged defendants."
   ]
  },
  {
   "cell_type": "code",
   "execution_count": 20,
   "metadata": {},
   "outputs": [
    {
     "data": {
      "text/plain": [
       "[1] 2.49612\n"
      ]
     },
     "metadata": {},
     "output_type": "display_data"
    }
   ],
   "source": [
    "%%R\n",
    "\n",
    "\n",
    "exp(1.30839) / (1 - control + (control * exp(1.30839)))"
   ]
  },
  {
   "cell_type": "markdown",
   "metadata": {},
   "source": [
    "\n",
    "## Risk of Violent Recidivism \n",
    "\n",
    "\n",
    "Compas also offers a score that aims to measure a persons risk of violent recidivism, which has a similar overall accuracy to the Recidivism score. As before, we can use a logistic regression to test for racial bias.\n",
    "\n",
    "\n",
    "### Wrangling data\n"
   ]
  },
  {
   "cell_type": "code",
   "execution_count": 21,
   "metadata": {},
   "outputs": [
    {
     "data": {
      "text/plain": [
       "[1] 4020\n"
      ]
     },
     "metadata": {},
     "output_type": "display_data"
    }
   ],
   "source": [
    "%%R\n",
    "\n",
    "# Select variables and rows \n",
    "\n",
    "df <- select(two_yaers_violent, age, c_charge_degree, race, age_cat, v_score_text, sex, priors_count, days_b_screening_arrest, v_decile_score, is_recid, two_year_recid) %>%\n",
    "      filter(days_b_screening_arrest <= 30,\n",
    "             days_b_screening_arrest >= -30, \n",
    "             is_recid != -1,\n",
    "             c_charge_degree != \"O\",\n",
    "             v_score_text != 'N/A')\n",
    "\n",
    "nrow(df)\n"
   ]
  },
  {
   "cell_type": "code",
   "execution_count": 22,
   "metadata": {},
   "outputs": [
    {
     "data": {
      "text/plain": [
       "[1] \"Factorized age\"\n",
       "[1] \"Factorized race\"\n",
       "[1] \"Factorized sex\"\n"
      ]
     },
     "metadata": {},
     "output_type": "display_data"
    }
   ],
   "source": [
    "%%R\n",
    "\n",
    "# Factorize key character variables \n",
    "\n",
    "df <- factorize(df)"
   ]
  },
  {
   "cell_type": "markdown",
   "metadata": {},
   "source": [
    "### Descriptive analysis"
   ]
  },
  {
   "cell_type": "code",
   "execution_count": 23,
   "metadata": {},
   "outputs": [
    {
     "data": {
      "text/plain": [
       "        25 - 45 Greater than 45    Less than 25 \n",
       "           2300             954             766 \n"
      ]
     },
     "metadata": {},
     "output_type": "display_data"
    }
   ],
   "source": [
    "%%R\n",
    "\n",
    "summary(df$age_cat)"
   ]
  },
  {
   "cell_type": "code",
   "execution_count": 24,
   "metadata": {},
   "outputs": [
    {
     "data": {
      "text/plain": [
       "       Caucasian African-American         Hispanic            Other \n",
       "            1459             1918              355              255 \n",
       "           Asian  Native American \n",
       "              26                7 \n"
      ]
     },
     "metadata": {},
     "output_type": "display_data"
    }
   ],
   "source": [
    "%%R\n",
    "\n",
    "summary(df$race)"
   ]
  },
  {
   "cell_type": "code",
   "execution_count": 25,
   "metadata": {},
   "outputs": [
    {
     "data": {
      "text/plain": [
       "   Length     Class      Mode \n",
       "     4020 character character \n"
      ]
     },
     "metadata": {},
     "output_type": "display_data"
    }
   ],
   "source": [
    "%%R\n",
    "\n",
    "summary(df$v_score_text)"
   ]
  },
  {
   "cell_type": "code",
   "execution_count": 26,
   "metadata": {},
   "outputs": [
    {
     "data": {
      "text/plain": [
       "[1] 16.21891\n"
      ]
     },
     "metadata": {},
     "output_type": "display_data"
    }
   ],
   "source": [
    "%%R\n",
    "\n",
    "nrow(filter(df, two_year_recid == 1)) / nrow(df) * 100"
   ]
  },
  {
   "cell_type": "code",
   "execution_count": 27,
   "metadata": {},
   "outputs": [
    {
     "data": {
      "text/plain": [
       "[1] 652\n"
      ]
     },
     "metadata": {},
     "output_type": "display_data"
    }
   ],
   "source": [
    "%%R\n",
    "\n",
    "nrow(filter(df, two_year_recid == 1))"
   ]
  },
  {
   "cell_type": "code",
   "execution_count": 28,
   "metadata": {},
   "outputs": [
    {
     "data": {
      "image/png": "[encoded data removed]"
     },
     "metadata": {},
     "output_type": "display_data"
    }
   ],
   "source": [
    "%%R\n",
    "\n",
    "df %>%\n",
    "  ggplot(aes(ordered(v_decile_score))) + \n",
    "          geom_bar() +\n",
    "          facet_wrap(~race, nrow = 2) +\n",
    "          labs(x = \"Decile Score\",\n",
    "               y = \"Count\",\n",
    "               Title = \"Defendant's Violent Decile Score\")"
   ]
  },
  {
   "cell_type": "markdown",
   "metadata": {},
   "source": [
    "- Turn other factor variables into factors "
   ]
  },
  {
   "cell_type": "code",
   "execution_count": 29,
   "metadata": {},
   "outputs": [],
   "source": [
    "%%R\n",
    "\n",
    "df <- df %>%\n",
    "  mutate(c_charge_degree = factor(c_charge_degree)) %>%\n",
    "  mutate(v_score_text = factor(v_score_text != \"Low\", labels = c(\"LowScore\",\"HighScore\"))) %>%\n",
    "  rename(crime = c_charge_degree,\n",
    "         gender = sex,\n",
    "         score = v_score_text)"
   ]
  },
  {
   "cell_type": "markdown",
   "metadata": {},
   "source": [
    "### Modeling "
   ]
  },
  {
   "cell_type": "code",
   "execution_count": 30,
   "metadata": {},
   "outputs": [
    {
     "data": {
      "image/png": "[encoded data removed]"
     },
     "metadata": {},
     "output_type": "display_data"
    }
   ],
   "source": [
    "%%R\n",
    "\n",
    "model <- glm(score ~ gender + age_cat + race +\n",
    "                            priors_count + crime + two_year_recid, family=\"binomial\", data=df)\n",
    "\n",
    "model %>% \n",
    "  tidy(conf.int = TRUE) %>%  # with confidence intervals \n",
    "  filter(term != \"(Intercept)\") %>%\n",
    "  ggplot(aes(x = fct_reorder(term, estimate), y = estimate, ymax = conf.high, ymin = conf.low)) +\n",
    "  geom_pointrange() +\n",
    "  coord_flip() +\n",
    "  labs(y = \"Estimate\", x = \"\")"
   ]
  },
  {
   "cell_type": "markdown",
   "metadata": {},
   "source": [
    "The violent score overpredicts recidivism for black defendants by 77.3% compared to white defendants."
   ]
  },
  {
   "cell_type": "code",
   "execution_count": 31,
   "metadata": {},
   "outputs": [
    {
     "data": {
      "text/plain": [
       "[1] 1.773921\n"
      ]
     },
     "metadata": {},
     "output_type": "display_data"
    }
   ],
   "source": [
    "%%R\n",
    "\n",
    "control <- exp(-2.24274) / (1 + exp(-2.24274))\n",
    "exp(0.65893) / (1 - control + (control * exp(0.65893)))"
   ]
  },
  {
   "cell_type": "markdown",
   "metadata": {},
   "source": [
    "Defendands under 25 are 7.4 times as likely to get a higher score as middle aged defendants.\n"
   ]
  },
  {
   "cell_type": "code",
   "execution_count": 32,
   "metadata": {},
   "outputs": [
    {
     "data": {
      "text/plain": [
       "[1] 7.41424\n"
      ]
     },
     "metadata": {},
     "output_type": "display_data"
    }
   ],
   "source": [
    "%%R\n",
    "\n",
    "exp(3.14591) / (1 - control + (control * exp(3.14591)))"
   ]
  },
  {
   "cell_type": "markdown",
   "metadata": {},
   "source": [
    "## Predictive Accuracy of COMPAS\n",
    "\n",
    "- In order to test whether Compas scores do an accurate job of deciding whether an offender is Low, Medium or High risk, we ran a Cox Proportional Hazards model. Northpointe, the company that created COMPAS and markets it to Law Enforcement, also ran a Cox model in [their validation study](https://journals.sagepub.com/doi/abs/10.1177/0093854808326545).\n",
    "- We used the counting model and removed people when they were incarcerated. Due to errors in the underlying jail data, we need to filter out 32 rows that have an end date more than the start date. Considering that there are 13,334 total rows in the data, such a small amount of errors will not affect the results.\n",
    "\n",
    "### Wrangling data "
   ]
  },
  {
   "cell_type": "code",
   "execution_count": 33,
   "metadata": {},
   "outputs": [],
   "source": [
    "%%R\n",
    "\n",
    "grp <- cox_data[!duplicated(cox_data$id),]"
   ]
  },
  {
   "cell_type": "markdown",
   "metadata": {},
   "source": [
    "### Descriptive analysis"
   ]
  },
  {
   "cell_type": "code",
   "execution_count": 34,
   "metadata": {},
   "outputs": [
    {
     "data": {
      "text/plain": [
       "   Low   High Medium \n",
       "  5751   1952   2611 \n"
      ]
     },
     "metadata": {},
     "output_type": "display_data"
    }
   ],
   "source": [
    "%%R\n",
    "\n",
    "summary(grp$score_factor)"
   ]
  },
  {
   "cell_type": "code",
   "execution_count": 35,
   "metadata": {},
   "outputs": [
    {
     "data": {
      "text/plain": [
       "       Caucasian African-American            Asian         Hispanic \n",
       "            3569             5147               51              944 \n",
       " Native American            Other \n",
       "              32              571 \n"
      ]
     },
     "metadata": {},
     "output_type": "display_data"
    }
   ],
   "source": [
    "%%R\n",
    "\n",
    "summary(grp$race_factor)"
   ]
  },
  {
   "cell_type": "code",
   "execution_count": 36,
   "metadata": {},
   "outputs": [],
   "source": [
    "### 4.3. Modeling"
   ]
  },
  {
   "cell_type": "code",
   "execution_count": 37,
   "metadata": {},
   "outputs": [
    {
     "data": {
      "text/plain": [
       "Call:\n",
       "coxph(formula = f, data = cox_data)\n",
       "\n",
       "  n= 13344, number of events= 3469 \n",
       "\n",
       "                      coef exp(coef) se(coef)     z Pr(>|z|)    \n",
       "score_factorHigh   1.24969   3.48927  0.04146 30.14   <2e-16 ***\n",
       "score_factorMedium 0.79627   2.21725  0.04077 19.53   <2e-16 ***\n",
       "---\n",
       "Signif. codes:  0 ‘***’ 0.001 ‘**’ 0.01 ‘*’ 0.05 ‘.’ 0.1 ‘ ’ 1\n",
       "\n",
       "                   exp(coef) exp(-coef) lower .95 upper .95\n",
       "score_factorHigh       3.489     0.2866     3.217     3.785\n",
       "score_factorMedium     2.217     0.4510     2.047     2.402\n",
       "\n",
       "Concordance= 0.636  (se = 0.004 )\n",
       "Rsquare= 0.068   (max possible= 0.99 )\n",
       "Likelihood ratio test= 942.8  on 2 df,   p=<2e-16\n",
       "Wald test            = 954.8  on 2 df,   p=<2e-16\n",
       "Score (logrank) test = 1055  on 2 df,   p=<2e-16\n",
       "\n"
      ]
     },
     "metadata": {},
     "output_type": "display_data"
    }
   ],
   "source": [
    "%%R\n",
    "\n",
    "f <- Surv(start, end, event, type=\"counting\") ~ score_factor\n",
    "\n",
    "model <- coxph(f, data = cox_data)\n",
    "\n",
    "summary(model)"
   ]
  },
  {
   "cell_type": "markdown",
   "metadata": {},
   "source": [
    "People placed in the High category are 3.5 times as likely to recidivate, and the COMPAS system's concordance 63.6%. This is lower than the accuracy quoted in the Northpoint study of 68%."
   ]
  },
  {
   "cell_type": "code",
   "execution_count": 38,
   "metadata": {},
   "outputs": [
    {
     "data": {
      "text/plain": [
       "Call:\n",
       "coxph(formula = decile_f, data = cox_data)\n",
       "\n",
       "  n= 13344, number of events= 3469 \n",
       "\n",
       "                 coef exp(coef) se(coef)     z Pr(>|z|)    \n",
       "decile_score 0.194931  1.215228 0.005801 33.61   <2e-16 ***\n",
       "---\n",
       "Signif. codes:  0 ‘***’ 0.001 ‘**’ 0.01 ‘*’ 0.05 ‘.’ 0.1 ‘ ’ 1\n",
       "\n",
       "             exp(coef) exp(-coef) lower .95 upper .95\n",
       "decile_score     1.215     0.8229     1.201     1.229\n",
       "\n",
       "Concordance= 0.664  (se = 0.005 )\n",
       "Rsquare= 0.08   (max possible= 0.99 )\n",
       "Likelihood ratio test= 1112  on 1 df,   p=<2e-16\n",
       "Wald test            = 1129  on 1 df,   p=<2e-16\n",
       "Score (logrank) test = 1208  on 1 df,   p=<2e-16\n",
       "\n"
      ]
     },
     "metadata": {},
     "output_type": "display_data"
    }
   ],
   "source": [
    "%%R\n",
    "\n",
    "decile_f <- Surv(start, end, event, type=\"counting\") ~ decile_score\n",
    "dmodel <- coxph(decile_f, data = cox_data)\n",
    "summary(dmodel)"
   ]
  },
  {
   "cell_type": "markdown",
   "metadata": {},
   "source": [
    "COMPAS's decile scores are a bit more accurate at 66%.\n",
    "\n",
    "We can test if the algorithm is behaving differently across races by including a race interaction term in the cox model.\n"
   ]
  },
  {
   "cell_type": "code",
   "execution_count": 39,
   "metadata": {},
   "outputs": [
    {
     "data": {
      "image/png": "[encoded data removed]"
     },
     "metadata": {},
     "output_type": "display_data"
    }
   ],
   "source": [
    "%%R\n",
    "\n",
    "f2 <- Surv(start, end, event, type=\"counting\") ~ race_factor + score_factor + race_factor * score_factor\n",
    "\n",
    "model <- coxph(f2, data = cox_data)\n",
    "\n",
    "tidy_model <- model %>%\n",
    "  tidy(conf.inf = TRUE)\n",
    "\n",
    "tidy_model$term <- gsub(\"race_factor|score_factor\",\"\", tidy_model$term) \n",
    "\n",
    "tidy_model %>%\n",
    "  filter(term != \"(Intercept)\") %>%\n",
    "  ggplot(aes(x = fct_reorder(term, estimate), y = estimate, ymax = conf.high, ymin = conf.low)) +\n",
    "  geom_pointrange() +\n",
    "  coord_flip() +\n",
    "  labs(y = \"Estimate\", x = \"\")\n"
   ]
  },
  {
   "cell_type": "markdown",
   "metadata": {},
   "source": [
    "The interaction term shows a similar disparity as the logistic regression above.\n",
    "\n",
    "High risk white defendants are 3.61 more likely than low risk white defendants, while High risk black defendants are 2.99 more likely than low.\n"
   ]
  },
  {
   "cell_type": "code",
   "execution_count": 40,
   "metadata": {},
   "outputs": [
    {
     "name": "stdout",
     "output_type": "stream",
     "text": [
      "Black High Hazard: 2.99\n",
      "White High Hazard: 3.61\n",
      "Black Medium Hazard: 1.95\n",
      "White Medium Hazard: 2.32\n"
     ]
    }
   ],
   "source": [
    "import math\n",
    "\n",
    "print(\"Black High Hazard: %.2f\" % (math.exp(-0.18976 + 1.28350)))\n",
    "print(\"White High Hazard: %.2f\" % (math.exp(1.28350)))\n",
    "print(\"Black Medium Hazard: %.2f\" % (math.exp(0.84286-0.17261)))\n",
    "print(\"White Medium Hazard: %.2f\" % (math.exp(0.84286)))"
   ]
  },
  {
   "cell_type": "code",
   "execution_count": 41,
   "metadata": {},
   "outputs": [
    {
     "data": {
      "image/png": "[encoded data removed]"
     },
     "metadata": {},
     "output_type": "display_data"
    }
   ],
   "source": [
    "%%R\n",
    "\n",
    "fit <- survfit(f, data = cox_data)\n",
    "\n",
    "plotty <- function(fit, title) {\n",
    "  return(autoplot(fit, conf.int=T, censor=F) + ggtitle(title) + ylim(0,1))\n",
    "}\n",
    "plotty(fit, \"Overall\")"
   ]
  },
  {
   "cell_type": "markdown",
   "metadata": {},
   "source": [
    "Black defendants do recidivate at higher rates according to race specific Kaplan Meier plots.\n"
   ]
  },
  {
   "cell_type": "code",
   "execution_count": 42,
   "metadata": {},
   "outputs": [
    {
     "data": {
      "image/png": "[encoded data removed]"
     },
     "metadata": {},
     "output_type": "display_data"
    }
   ],
   "source": [
    "%%R\n",
    "\n",
    "white <- filter(cox_data, race == \"Caucasian\")\n",
    "white_fit <- survfit(f, data=white)\n",
    "\n",
    "black <- filter(cox_data, race == \"African-American\")\n",
    "black_fit <- survfit(f, data=black)\n",
    "\n",
    "grid.arrange(plotty(white_fit, \"White defendants\"), \n",
    "             plotty(black_fit, \"Black defendants\"), ncol=2)\n"
   ]
  },
  {
   "cell_type": "code",
   "execution_count": 43,
   "metadata": {},
   "outputs": [
    {
     "data": {
      "text/plain": [
       "Call: survfit(formula = f, data = cox_data)\n",
       "\n",
       "                score_factor=Low \n",
       "        time       n.risk      n.event     censored     survival      std.err \n",
       "    7.30e+02     2.75e+03     1.21e+03     2.79e+03     7.76e-01     5.74e-03 \n",
       "lower 95% CI upper 95% CI \n",
       "    7.64e-01     7.87e-01 \n",
       "\n",
       "                score_factor=High \n",
       "        time       n.risk      n.event     censored     survival      std.err \n",
       "    7.30e+02     5.05e+02     9.72e+02     1.26e+03     4.08e-01     1.22e-02 \n",
       "lower 95% CI upper 95% CI \n",
       "    3.85e-01     4.33e-01 \n",
       "\n",
       "                score_factor=Medium \n",
       "        time       n.risk      n.event     censored     survival      std.err \n",
       "    7.30e+02     9.79e+02     1.02e+03     1.39e+03     5.63e-01     1.03e-02 \n",
       "lower 95% CI upper 95% CI \n",
       "    5.43e-01     5.84e-01 \n",
       "\n"
      ]
     },
     "metadata": {},
     "output_type": "display_data"
    }
   ],
   "source": [
    "%%R\n",
    "\n",
    "summary(fit, times=c(730))"
   ]
  },
  {
   "cell_type": "code",
   "execution_count": 44,
   "metadata": {},
   "outputs": [
    {
     "data": {
      "text/plain": [
       "Call: survfit(formula = f, data = black)\n",
       "\n",
       "                score_factor=Low \n",
       "        time       n.risk      n.event     censored     survival      std.err \n",
       "    7.30e+02     1.02e+03     5.29e+02     1.04e+03     7.43e-01     9.70e-03 \n",
       "lower 95% CI upper 95% CI \n",
       "    7.24e-01     7.62e-01 \n",
       "\n",
       "                score_factor=High \n",
       "        time       n.risk      n.event     censored     survival      std.err \n",
       "    730.0000     362.0000     719.0000     914.0000       0.3976       0.0142 \n",
       "lower 95% CI upper 95% CI \n",
       "      0.3707       0.4265 \n",
       "\n",
       "                score_factor=Medium \n",
       "        time       n.risk      n.event     censored     survival      std.err \n",
       "    730.0000     578.0000     623.0000     785.0000       0.5485       0.0134 \n",
       "lower 95% CI upper 95% CI \n",
       "      0.5227       0.5755 \n",
       "\n"
      ]
     },
     "metadata": {},
     "output_type": "display_data"
    }
   ],
   "source": [
    "%%R\n",
    "\n",
    "summary(black_fit, times=c(730))"
   ]
  },
  {
   "cell_type": "code",
   "execution_count": 45,
   "metadata": {},
   "outputs": [
    {
     "data": {
      "text/plain": [
       "Call: survfit(formula = f, data = white)\n",
       "\n",
       "                score_factor=Low \n",
       "        time       n.risk      n.event     censored     survival      std.err \n",
       "    7.30e+02     1.16e+03     4.57e+02     1.18e+03     7.95e-01     8.63e-03 \n",
       "lower 95% CI upper 95% CI \n",
       "    7.78e-01     8.12e-01 \n",
       "\n",
       "                score_factor=High \n",
       "        time       n.risk      n.event     censored     survival      std.err \n",
       "    730.0000     102.0000     191.0000     278.0000       0.4347       0.0272 \n",
       "lower 95% CI upper 95% CI \n",
       "      0.3846       0.4914 \n",
       "\n",
       "                score_factor=Medium \n",
       "        time       n.risk      n.event     censored     survival      std.err \n",
       "    730.0000     299.0000     306.0000     460.0000       0.5757       0.0185 \n",
       "lower 95% CI upper 95% CI \n",
       "      0.5405       0.6132 \n",
       "\n"
      ]
     },
     "metadata": {},
     "output_type": "display_data"
    }
   ],
   "source": [
    "%%R\n",
    "\n",
    "summary(white_fit, times=c(730))"
   ]
  },
  {
   "cell_type": "code",
   "execution_count": 46,
   "metadata": {},
   "outputs": [
    {
     "data": {
      "text/plain": [
       "Call:\n",
       "coxph(formula = f, data = white)\n",
       "\n",
       "  n= 4564, number of events= 1023 \n",
       "\n",
       "                      coef exp(coef) se(coef)     z Pr(>|z|)    \n",
       "score_factorHigh   1.27628   3.58327  0.08365 15.26   <2e-16 ***\n",
       "score_factorMedium 0.83965   2.31556  0.07144 11.75   <2e-16 ***\n",
       "---\n",
       "Signif. codes:  0 ‘***’ 0.001 ‘**’ 0.01 ‘*’ 0.05 ‘.’ 0.1 ‘ ’ 1\n",
       "\n",
       "                   exp(coef) exp(-coef) lower .95 upper .95\n",
       "score_factorHigh       3.583     0.2791     3.041     4.222\n",
       "score_factorMedium     2.316     0.4319     2.013     2.664\n",
       "\n",
       "Concordance= 0.625  (se = 0.007 )\n",
       "Rsquare= 0.056   (max possible= 0.971 )\n",
       "Likelihood ratio test= 262.8  on 2 df,   p=<2e-16\n",
       "Wald test            = 282.2  on 2 df,   p=<2e-16\n",
       "Score (logrank) test = 311.7  on 2 df,   p=<2e-16\n",
       "\n"
      ]
     },
     "metadata": {},
     "output_type": "display_data"
    }
   ],
   "source": [
    "%%R\n",
    "\n",
    "summary(coxph(f, data=white))"
   ]
  },
  {
   "cell_type": "code",
   "execution_count": 47,
   "metadata": {},
   "outputs": [
    {
     "data": {
      "text/plain": [
       "Call:\n",
       "coxph(formula = f, data = white)\n",
       "\n",
       "  n= 4564, number of events= 1023 \n",
       "\n",
       "                      coef exp(coef) se(coef)     z Pr(>|z|)    \n",
       "score_factorHigh   1.27628   3.58327  0.08365 15.26   <2e-16 ***\n",
       "score_factorMedium 0.83965   2.31556  0.07144 11.75   <2e-16 ***\n",
       "---\n",
       "Signif. codes:  0 ‘***’ 0.001 ‘**’ 0.01 ‘*’ 0.05 ‘.’ 0.1 ‘ ’ 1\n",
       "\n",
       "                   exp(coef) exp(-coef) lower .95 upper .95\n",
       "score_factorHigh       3.583     0.2791     3.041     4.222\n",
       "score_factorMedium     2.316     0.4319     2.013     2.664\n",
       "\n",
       "Concordance= 0.625  (se = 0.007 )\n",
       "Rsquare= 0.056   (max possible= 0.971 )\n",
       "Likelihood ratio test= 262.8  on 2 df,   p=<2e-16\n",
       "Wald test            = 282.2  on 2 df,   p=<2e-16\n",
       "Score (logrank) test = 311.7  on 2 df,   p=<2e-16\n",
       "\n"
      ]
     },
     "metadata": {},
     "output_type": "display_data"
    }
   ],
   "source": [
    "%%R\n",
    "\n",
    "summary(coxph(f, data=white))"
   ]
  },
  {
   "cell_type": "markdown",
   "metadata": {},
   "source": [
    "## Directions of the Racial Bias\n",
    "\n",
    "The above analysis shows that the Compas algorithm does overpredict African-American defendant's future recidivism, but we haven't yet explored the direction of the bias. We can discover fine differences in overprediction and underprediction by comparing Compas scores across racial lines.\n"
   ]
  },
  {
   "cell_type": "code",
   "execution_count": 48,
   "metadata": {},
   "outputs": [],
   "source": [
    "from truth_tables import PeekyReader, Person, table, is_race, count, vtable, hightable, vhightable\n",
    "from csv import DictReader\n",
    "\n",
    "people = []\n",
    "with open(\"/home/jae/bias-in-ml/compas/data/cox-parsed.csv\") as f:\n",
    "    reader = PeekyReader(DictReader(f))\n",
    "    try:\n",
    "        while True:\n",
    "            p = Person(reader)\n",
    "            if p.valid:\n",
    "                people.append(p)\n",
    "    except StopIteration:\n",
    "        pass\n",
    "\n",
    "pop = list(filter(lambda i: ((i.recidivist == True and i.lifetime <= 730) or\n",
    "                              i.lifetime > 730), list(filter(lambda x: x.score_valid, people))))\n",
    "recid = list(filter(lambda i: i.recidivist == True and i.lifetime <= 730, pop))\n",
    "rset = set(recid)\n",
    "surv = [i for i in pop if i not in rset]"
   ]
  },
  {
   "cell_type": "code",
   "execution_count": 49,
   "metadata": {},
   "outputs": [
    {
     "name": "stdout",
     "output_type": "stream",
     "text": [
      "All defendants\n",
      "           \tLow\tHigh\n",
      "Survived   \t2681\t1282\t0.55\n",
      "Recidivated\t1216\t2035\t0.45\n",
      "Total: 7214.00\n",
      "False positive rate: 32.35\n",
      "False negative rate: 37.40\n",
      "Specificity: 0.68\n",
      "Sensitivity: 0.63\n",
      "Prevalence: 0.45\n",
      "PPV: 0.61\n",
      "NPV: 0.69\n",
      "LR+: 1.94\n",
      "LR-: 0.55\n"
     ]
    }
   ],
   "source": [
    "print(\"All defendants\")\n",
    "table(list(recid), list(surv))"
   ]
  },
  {
   "cell_type": "code",
   "execution_count": 50,
   "metadata": {},
   "outputs": [
    {
     "name": "stdout",
     "output_type": "stream",
     "text": [
      "Total pop: 7214\n"
     ]
    }
   ],
   "source": [
    "print(\"Total pop: %i\" % (2681 + 1282 + 1216 + 2035))"
   ]
  },
  {
   "cell_type": "code",
   "execution_count": 51,
   "metadata": {},
   "outputs": [
    {
     "name": "stdout",
     "output_type": "stream",
     "text": [
      "Average followup time 622.87 (sd 392.19)\n",
      "Median followup time 766\n"
     ]
    }
   ],
   "source": [
    "import statistics\n",
    "print(\"Average followup time %.2f (sd %.2f)\" % (statistics.mean(map(lambda i: i.lifetime, pop)),\n",
    "                                                statistics.stdev(map(lambda i: i.lifetime, pop))))\n",
    "print(\"Median followup time %i\" % (statistics.median(map(lambda i: i.lifetime, pop))))"
   ]
  },
  {
   "cell_type": "markdown",
   "metadata": {},
   "source": [
    "Overall, the false positive rate is 32.35%."
   ]
  },
  {
   "cell_type": "code",
   "execution_count": 52,
   "metadata": {},
   "outputs": [
    {
     "name": "stdout",
     "output_type": "stream",
     "text": [
      "Black defendants\n",
      "           \tLow\tHigh\n",
      "Survived   \t990\t805\t0.49\n",
      "Recidivated\t532\t1369\t0.51\n",
      "Total: 3696.00\n",
      "False positive rate: 44.85\n",
      "False negative rate: 27.99\n",
      "Specificity: 0.55\n",
      "Sensitivity: 0.72\n",
      "Prevalence: 0.51\n",
      "PPV: 0.63\n",
      "NPV: 0.65\n",
      "LR+: 1.61\n",
      "LR-: 0.51\n"
     ]
    }
   ],
   "source": [
    "print(\"Black defendants\")\n",
    "is_afam = is_race(\"African-American\")\n",
    "table(list(filter(is_afam, recid)), list(filter(is_afam, surv)))"
   ]
  },
  {
   "cell_type": "markdown",
   "metadata": {},
   "source": [
    "That number is higher for African Americans at 44.85%."
   ]
  },
  {
   "cell_type": "code",
   "execution_count": 53,
   "metadata": {},
   "outputs": [
    {
     "name": "stdout",
     "output_type": "stream",
     "text": [
      "White defendants\n",
      "           \tLow\tHigh\n",
      "Survived   \t1139\t349\t0.61\n",
      "Recidivated\t461\t505\t0.39\n",
      "Total: 2454.00\n",
      "False positive rate: 23.45\n",
      "False negative rate: 47.72\n",
      "Specificity: 0.77\n",
      "Sensitivity: 0.52\n",
      "Prevalence: 0.39\n",
      "PPV: 0.59\n",
      "NPV: 0.71\n",
      "LR+: 2.23\n",
      "LR-: 0.62\n"
     ]
    }
   ],
   "source": [
    "print(\"White defendants\")\n",
    "is_white = is_race(\"Caucasian\")\n",
    "table(list(filter(is_white, recid)), list(filter(is_white, surv)))"
   ]
  },
  {
   "cell_type": "markdown",
   "metadata": {},
   "source": [
    "And lower for whites at 23.45%."
   ]
  },
  {
   "cell_type": "code",
   "execution_count": 54,
   "metadata": {},
   "outputs": [
    {
     "data": {
      "text/plain": [
       "1.9125799573560769"
      ]
     },
     "execution_count": 54,
     "metadata": {},
     "output_type": "execute_result"
    }
   ],
   "source": [
    "44.85 / 23.45"
   ]
  },
  {
   "cell_type": "markdown",
   "metadata": {},
   "source": [
    "Which means under COMPAS black defendants are 91% more likely to get a higher score and not go on to commit more crimes than white defendants after two year.\n",
    "\n",
    "COMPAS scores misclassify white reoffenders as low risk at 70.4% more often than black reoffenders."
   ]
  },
  {
   "cell_type": "code",
   "execution_count": 55,
   "metadata": {},
   "outputs": [
    {
     "data": {
      "text/plain": [
       "1.7048946052161487"
      ]
     },
     "execution_count": 55,
     "metadata": {},
     "output_type": "execute_result"
    }
   ],
   "source": [
    "47.72 / 27.99"
   ]
  },
  {
   "cell_type": "code",
   "execution_count": 56,
   "metadata": {},
   "outputs": [
    {
     "name": "stdout",
     "output_type": "stream",
     "text": [
      "           \tLow\tHigh\n",
      "Survived   \t1407\t81\t0.61\n",
      "Recidivated\t771\t195\t0.39\n",
      "Total: 2454.00\n",
      "False positive rate: 5.44\n",
      "False negative rate: 79.81\n",
      "Specificity: 0.95\n",
      "Sensitivity: 0.20\n",
      "Prevalence: 0.39\n",
      "PPV: 0.71\n",
      "NPV: 0.65\n",
      "LR+: 3.71\n",
      "LR-: 0.84\n"
     ]
    }
   ],
   "source": [
    "hightable(list(filter(is_white, recid)), list(filter(is_white, surv)))"
   ]
  },
  {
   "cell_type": "code",
   "execution_count": 57,
   "metadata": {},
   "outputs": [
    {
     "name": "stdout",
     "output_type": "stream",
     "text": [
      "           \tLow\tHigh\n",
      "Survived   \t1511\t284\t0.49\n",
      "Recidivated\t1160\t741\t0.51\n",
      "Total: 3696.00\n",
      "False positive rate: 15.82\n",
      "False negative rate: 61.02\n",
      "Specificity: 0.84\n",
      "Sensitivity: 0.39\n",
      "Prevalence: 0.51\n",
      "PPV: 0.72\n",
      "NPV: 0.57\n",
      "LR+: 2.46\n",
      "LR-: 0.72\n"
     ]
    }
   ],
   "source": [
    "hightable(list(filter(is_afam, recid)), list(filter(is_afam, surv)))"
   ]
  },
  {
   "cell_type": "markdown",
   "metadata": {},
   "source": [
    "## Risk of Violent Recidivism \n",
    "\n",
    "Compas also offers a score that aims to measure a persons risk of violent recidivism, which has a similar overall accuracy to the Recidivism score."
   ]
  },
  {
   "cell_type": "code",
   "execution_count": 58,
   "metadata": {},
   "outputs": [],
   "source": [
    "vpeople = []\n",
    "with open(\"/home/jae/bias-in-ml/compas/data/cox-violent-parsed.csv\") as f:\n",
    "    reader = PeekyReader(DictReader(f))\n",
    "    try:\n",
    "        while True:\n",
    "            p = Person(reader)\n",
    "            if p.valid:\n",
    "                vpeople.append(p)\n",
    "    except StopIteration:\n",
    "        pass\n",
    "\n",
    "vpop = list(filter(lambda i: ((i.violent_recidivist == True and i.lifetime <= 730) or\n",
    "                              i.lifetime > 730), list(filter(lambda x: x.vscore_valid, vpeople))))\n",
    "vrecid = list(filter(lambda i: i.violent_recidivist == True and i.lifetime <= 730, vpeople))\n",
    "vrset = set(vrecid)\n",
    "vsurv = [i for i in vpop if i not in vrset]"
   ]
  },
  {
   "cell_type": "code",
   "execution_count": 59,
   "metadata": {},
   "outputs": [
    {
     "name": "stdout",
     "output_type": "stream",
     "text": [
      "All defendants\n",
      "           \tLow\tHigh\n",
      "Survived   \t4121\t1597\t0.89\n",
      "Recidivated\t347\t389\t0.11\n",
      "Total: 6454.00\n",
      "False positive rate: 27.93\n",
      "False negative rate: 47.15\n",
      "Specificity: 0.72\n",
      "Sensitivity: 0.53\n",
      "Prevalence: 0.11\n",
      "PPV: 0.20\n",
      "NPV: 0.92\n",
      "LR+: 1.89\n",
      "LR-: 0.65\n"
     ]
    }
   ],
   "source": [
    "print(\"All defendants\")\n",
    "vtable(list(vrecid), list(vsurv))"
   ]
  },
  {
   "cell_type": "markdown",
   "metadata": {},
   "source": [
    "Even moreso for Black defendants."
   ]
  },
  {
   "cell_type": "code",
   "execution_count": 60,
   "metadata": {},
   "outputs": [
    {
     "name": "stdout",
     "output_type": "stream",
     "text": [
      "Black defendants\n",
      "           \tLow\tHigh\n",
      "Survived   \t1692\t1043\t0.86\n",
      "Recidivated\t170\t273\t0.14\n",
      "Total: 3178.00\n",
      "False positive rate: 38.14\n",
      "False negative rate: 38.37\n",
      "Specificity: 0.62\n",
      "Sensitivity: 0.62\n",
      "Prevalence: 0.14\n",
      "PPV: 0.21\n",
      "NPV: 0.91\n",
      "LR+: 1.62\n",
      "LR-: 0.62\n"
     ]
    }
   ],
   "source": [
    "print(\"Black defendants\")\n",
    "is_afam = is_race(\"African-American\")\n",
    "vtable(list(filter(is_afam, vrecid)), list(filter(is_afam, vsurv)))"
   ]
  },
  {
   "cell_type": "code",
   "execution_count": 61,
   "metadata": {},
   "outputs": [
    {
     "name": "stdout",
     "output_type": "stream",
     "text": [
      "White defendants\n",
      "           \tLow\tHigh\n",
      "Survived   \t1679\t380\t0.91\n",
      "Recidivated\t129\t77\t0.09\n",
      "Total: 2265.00\n",
      "False positive rate: 18.46\n",
      "False negative rate: 62.62\n",
      "Specificity: 0.82\n",
      "Sensitivity: 0.37\n",
      "Prevalence: 0.09\n",
      "PPV: 0.17\n",
      "NPV: 0.93\n",
      "LR+: 2.03\n",
      "LR-: 0.77\n"
     ]
    }
   ],
   "source": [
    "print(\"White defendants\")\n",
    "is_white = is_race(\"Caucasian\")\n",
    "vtable(list(filter(is_white, vrecid)), list(filter(is_white, vsurv)))"
   ]
  },
  {
   "cell_type": "markdown",
   "metadata": {},
   "source": [
    "Black defendants are twice as likely to be false positives for a Higher violent score than white defendants."
   ]
  },
  {
   "cell_type": "code",
   "execution_count": 62,
   "metadata": {},
   "outputs": [
    {
     "data": {
      "text/plain": [
       "2.066088840736728"
      ]
     },
     "execution_count": 62,
     "metadata": {},
     "output_type": "execute_result"
    }
   ],
   "source": [
    "38.14 / 18.46"
   ]
  },
  {
   "cell_type": "markdown",
   "metadata": {},
   "source": [
    "White defendants are 63% more likely to get a lower score and commit another crime than Black defendants."
   ]
  },
  {
   "cell_type": "code",
   "execution_count": 63,
   "metadata": {},
   "outputs": [
    {
     "data": {
      "text/plain": [
       "1.63200416992442"
      ]
     },
     "execution_count": 63,
     "metadata": {},
     "output_type": "execute_result"
    }
   ],
   "source": [
    "62.62 / 38.37"
   ]
  },
  {
   "cell_type": "markdown",
   "metadata": {},
   "source": [
    "## Gender differences in Compas scores "
   ]
  },
  {
   "cell_type": "markdown",
   "metadata": {},
   "source": [
    "\n",
    "In terms of underlying recidivism rates, we can look at gender specific Kaplan Meier estimates. There is a striking difference between women and men.\n"
   ]
  },
  {
   "cell_type": "code",
   "execution_count": 64,
   "metadata": {},
   "outputs": [],
   "source": [
    "%%R\n",
    "\n",
    "female <- filter(cox_data, sex == \"Female\")\n",
    "male   <- filter(cox_data, sex == \"Male\")\n",
    "male_fit <- survfit(f, data = male)\n",
    "female_fit <- survfit(f, data = female)"
   ]
  },
  {
   "cell_type": "code",
   "execution_count": 65,
   "metadata": {},
   "outputs": [
    {
     "data": {
      "text/plain": [
       "Call: survfit(formula = f, data = male)\n",
       "\n",
       "                score_factor=Low \n",
       "        time       n.risk      n.event     censored     survival      std.err \n",
       "    7.30e+02     2.13e+03     1.02e+03     2.18e+03     7.58e-01     6.67e-03 \n",
       "lower 95% CI upper 95% CI \n",
       "    7.45e-01     7.71e-01 \n",
       "\n",
       "                score_factor=High \n",
       "        time       n.risk      n.event     censored     survival      std.err \n",
       "     730.000      421.000      857.000     1047.000        0.388        0.013 \n",
       "lower 95% CI upper 95% CI \n",
       "       0.363        0.414 \n",
       "\n",
       "                score_factor=Medium \n",
       "        time       n.risk      n.event     censored     survival      std.err \n",
       "    7.30e+02     7.52e+02     8.38e+02     1.06e+03     5.35e-01     1.18e-02 \n",
       "lower 95% CI upper 95% CI \n",
       "    5.13e-01     5.59e-01 \n",
       "\n"
      ]
     },
     "metadata": {},
     "output_type": "display_data"
    }
   ],
   "source": [
    "%%R\n",
    "\n",
    "summary(male_fit, times=c(730))"
   ]
  },
  {
   "cell_type": "code",
   "execution_count": 66,
   "metadata": {},
   "outputs": [
    {
     "data": {
      "text/plain": [
       "Call: survfit(formula = f, data = female)\n",
       "\n",
       "                score_factor=Low \n",
       "        time       n.risk      n.event     censored     survival      std.err \n",
       "    730.0000     617.0000     194.0000     614.0000       0.8381       0.0107 \n",
       "lower 95% CI upper 95% CI \n",
       "      0.8174       0.8593 \n",
       "\n",
       "                score_factor=High \n",
       "        time       n.risk      n.event     censored     survival      std.err \n",
       "    730.0000      84.0000     115.0000     209.0000       0.5252       0.0325 \n",
       "lower 95% CI upper 95% CI \n",
       "      0.4652       0.5929 \n",
       "\n",
       "                score_factor=Medium \n",
       "        time       n.risk      n.event     censored     survival      std.err \n",
       "    730.0000     227.0000     184.0000     333.0000       0.6586       0.0206 \n",
       "lower 95% CI upper 95% CI \n",
       "      0.6194       0.7003 \n",
       "\n"
      ]
     },
     "metadata": {},
     "output_type": "display_data"
    }
   ],
   "source": [
    "%%R\n",
    "summary(female_fit, times=c(730))"
   ]
  },
  {
   "cell_type": "code",
   "execution_count": 67,
   "metadata": {},
   "outputs": [
    {
     "data": {
      "image/png": "[encoded data removed]"
     },
     "metadata": {},
     "output_type": "display_data"
    }
   ],
   "source": [
    "%%R\n",
    "\n",
    "grid.arrange(plotty(female_fit, \"Female\"), plotty(male_fit, \"Male\"),ncol=2)"
   ]
  },
  {
   "cell_type": "markdown",
   "metadata": {},
   "source": [
    "\n",
    "As these plots show, the Compas score treats a High risk women the same as a Medium risk man."
   ]
  },
  {
   "cell_type": "code",
   "execution_count": null,
   "metadata": {},
   "outputs": [],
   "source": []
  }
 ],
 "metadata": {
  "kernelspec": {
   "display_name": "Python 3",
   "language": "python",
   "name": "python3"
  },
  "language_info": {
   "codemirror_mode": {
    "name": "ipython",
    "version": 3
   },
   "file_extension": ".py",
   "mimetype": "text/x-python",
   "name": "python",
   "nbconvert_exporter": "python",
   "pygments_lexer": "ipython3",
   "version": "3.6.8"
  },
  "toc": {
   "base_numbering": 1,
   "nav_menu": {},
   "number_sections": true,
   "sideBar": true,
   "skip_h1_title": false,
   "title_cell": "Table of Contents",
   "title_sidebar": "Contents",
   "toc_cell": false,
   "toc_position": {
    "height": "calc(100% - 180px)",
    "left": "10px",
    "top": "150px",
    "width": "165px"
   },
   "toc_section_display": true,
   "toc_window_display": true
  }
 },
 "nbformat": 4,
 "nbformat_minor": 2
}
