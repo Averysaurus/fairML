{
 "cells": [
  {
   "cell_type": "markdown",
   "metadata": {},
   "source": [
    "# Algorithm accuracy analysis\n",
    "\n",
    "- In order to test whether Compas scores do an accurate job of deciding whether an offender is Low, Medium or High risk, we ran a Cox Proportional Hazards model. Northpointe, the company that created COMPAS and markets it to Law Enforcement, also ran a Cox model in [their validation study](https://journals.sagepub.com/doi/abs/10.1177/0093854808326545).\n",
    "- We used the counting model and removed people when they were incarcerated. Due to errors in the underlying jail data, we need to filter out 32 rows that have an end date more than the start date. Considering that there are 13,334 total rows in the data, such a small amount of errors will not affect the results.\n",
    "\n",
    "## Setup"
   ]
  },
  {
   "cell_type": "code",
   "execution_count": 5,
   "metadata": {},
   "outputs": [
    {
     "name": "stdout",
     "output_type": "stream",
     "text": [
      "The rpy2.ipython extension is already loaded. To reload it, use:\n",
      "  %reload_ext rpy2.ipython\n"
     ]
    }
   ],
   "source": [
    "################# To use R in Jupyter Notebook ###############\n",
    "import rpy2.ipython\n",
    "%load_ext rpy2.ipython\n",
    "\n",
    "################# To ignore warnings ##################\n",
    "import warnings\n",
    "warnings.filterwarnings('ignore')\n",
    "\n",
    "################## To have multiple outputs ###################\n",
    "from IPython.core.interactiveshell import InteractiveShell\n",
    "InteractiveShell.ast_node_interactivity = \"all\" \n",
    "\n",
    "from IPython.display import display"
   ]
  },
  {
   "cell_type": "markdown",
   "metadata": {},
   "source": [
    "## Loading packages "
   ]
  },
  {
   "cell_type": "code",
   "execution_count": 6,
   "metadata": {},
   "outputs": [
    {
     "name": "stderr",
     "output_type": "stream",
     "text": [
      "R[write to console]: [conflicted] Removing existing preference\n",
      "\n",
      "R[write to console]: [conflicted] Will prefer \u001b[34mdplyr::filter\u001b[39m over any other package\n",
      "\n",
      "R[write to console]: [conflicted] Removing existing preference\n",
      "\n",
      "R[write to console]: [conflicted] Will prefer \u001b[34mdplyr::select\u001b[39m over any other package\n",
      "\n"
     ]
    }
   ],
   "source": [
    "%%R\n",
    "if (!require(\"pacman\")) install.packages(\"pacman\")\n",
    "pacman::p_load(\n",
    " tidyverse, # tidyverse packages \n",
    " conflicted, # an alternative conflict resolution strategy \n",
    " ggthemes, # for more themes \n",
    " patchwork, # for arranging ggplots\n",
    " scales, # for rescales \n",
    " survival, # for survival analysis\n",
    " ggfortify, # # data viz tools for statistical analysis\n",
    " grid, # for adding grids \n",
    " gridExtra, # for grid graphics \n",
    " broom, # for modeling\n",
    " reticulate, # Python enginge for R markdown\n",
    " purrr # for multiple models\n",
    ")\n",
    "\n",
    "# To avoid conflicts \n",
    "conflict_prefer(\"filter\", \"dplyr\") \n",
    "conflict_prefer(\"select\", \"dplyr\") "
   ]
  },
  {
   "cell_type": "markdown",
   "metadata": {},
   "source": [
    "## Loading data \n",
    "\n",
    "We select fields for severity of charge, number of priors, demographics, age, sex, compas scores, and whether each person was accused of a crime within two years.\n",
    "\n",
    "- N of observations (rows): 7,214\n",
    "- N of variables (columns): 53"
   ]
  },
  {
   "cell_type": "code",
   "execution_count": 7,
   "metadata": {},
   "outputs": [
    {
     "name": "stderr",
     "output_type": "stream",
     "text": [
      "R[write to console]: Parsed with column specification:\n",
      "cols(\n",
      "  .default = col_character(),\n",
      "  id = \u001b[32mcol_double()\u001b[39m,\n",
      "  compas_screening_date = \u001b[34mcol_date(format = \"\")\u001b[39m,\n",
      "  dob = \u001b[34mcol_date(format = \"\")\u001b[39m,\n",
      "  age = \u001b[32mcol_double()\u001b[39m,\n",
      "  juv_fel_count = \u001b[32mcol_double()\u001b[39m,\n",
      "  decile_score = \u001b[32mcol_double()\u001b[39m,\n",
      "  juv_misd_count = \u001b[32mcol_double()\u001b[39m,\n",
      "  juv_other_count = \u001b[32mcol_double()\u001b[39m,\n",
      "  priors_count = \u001b[32mcol_double()\u001b[39m,\n",
      "  days_b_screening_arrest = \u001b[32mcol_double()\u001b[39m,\n",
      "  c_jail_in = \u001b[34mcol_datetime(format = \"\")\u001b[39m,\n",
      "  c_jail_out = \u001b[34mcol_datetime(format = \"\")\u001b[39m,\n",
      "  c_offense_date = \u001b[34mcol_date(format = \"\")\u001b[39m,\n",
      "  c_arrest_date = \u001b[34mcol_date(format = \"\")\u001b[39m,\n",
      "  c_days_from_compas = \u001b[32mcol_double()\u001b[39m,\n",
      "  is_recid = \u001b[32mcol_double()\u001b[39m,\n",
      "  r_days_from_arrest = \u001b[32mcol_double()\u001b[39m,\n",
      "  r_offense_date = \u001b[34mcol_date(format = \"\")\u001b[39m,\n",
      "  r_jail_in = \u001b[34mcol_date(format = \"\")\u001b[39m,\n",
      "  r_jail_out = \u001b[34mcol_date(format = \"\")\u001b[39m\n",
      "  # ... with 13 more columns\n",
      ")\n",
      "\n",
      "R[write to console]: See spec(...) for full column specifications.\n",
      "\n"
     ]
    }
   ],
   "source": [
    "%%R\n",
    "\n",
    "cox_data <- read_csv(\"/home/jae/compas-analysis/data/cox-parsed.csv\")\n"
   ]
  },
  {
   "cell_type": "markdown",
   "metadata": {},
   "source": [
    "## Wrangling data "
   ]
  },
  {
   "cell_type": "code",
   "execution_count": null,
   "metadata": {},
   "outputs": [],
   "source": [
    "%%R\n",
    "\n",
    "# Wrangling data  \n",
    "df <- cox_data %>% \n",
    "    filter(score_text != \"N/A\") %>%\n",
    "    filter(end > start) %>%\n",
    "    mutate(c_charge_degree = factor(c_charge_degree),\n",
    "           age_cat = factor(age_cat),\n",
    "           race = factor(race, levels = c(\"Caucasian\",\"African-American\",\"Hispanic\",\"Other\",\"Asian\",\"Native American\")),\n",
    "           sex = factor(sex, levels = c(\"Male\",\"Female\")),\n",
    "           score_factor = factor(score_text, levels = c(\"Low\", \"Medium\", \"High\")))"
   ]
  },
  {
   "cell_type": "code",
   "execution_count": null,
   "metadata": {},
   "outputs": [],
   "source": [
    "%%R\n",
    "\n",
    "grp <- df[!duplicated(df$id),]"
   ]
  },
  {
   "cell_type": "markdown",
   "metadata": {},
   "source": [
    "## Descriptive analysis"
   ]
  },
  {
   "cell_type": "code",
   "execution_count": null,
   "metadata": {},
   "outputs": [],
   "source": [
    "%%R\n",
    "\n",
    "# Set theme \n",
    "theme_set(theme_base())\n",
    "\n",
    "grp %>% \n",
    "    group_by(score_factor) %>%\n",
    "      count() %>%\n",
    "      ggplot(aes(x = score_factor, y = n)) +\n",
    "        geom_col() +\n",
    "        labs(x = \"Score\",\n",
    "             y = \"Count\",\n",
    "             title = \"Score distribution\")"
   ]
  },
  {
   "cell_type": "code",
   "execution_count": null,
   "metadata": {},
   "outputs": [],
   "source": [
    "%%R\n",
    "\n",
    "df %>%\n",
    "  ggplot(aes(ordered(score_factor))) + \n",
    "          geom_bar() +\n",
    "          facet_wrap(~race, nrow = 2) +\n",
    "          labs(x = \"Decile Score\",\n",
    "               y = \"Count\",\n",
    "               Title = \"Defendant's Decile Score\")"
   ]
  },
  {
   "cell_type": "markdown",
   "metadata": {},
   "source": [
    "## Modeling"
   ]
  },
  {
   "cell_type": "code",
   "execution_count": null,
   "metadata": {},
   "outputs": [],
   "source": [
    "%%R\n",
    "\n",
    "f2 <- Surv(start, end, event, type=\"counting\") ~ race + score_factor + race * score_factor\n",
    "\n",
    "model <- coxph(f2, data = df)\n",
    "\n",
    "model %>%\n",
    "  tidy(conf.inf = TRUE) %>%\n",
    "  mutate(term = gsub(\"race|score_factor\",\"\", term)) %>% \n",
    "  filter(term != \"<chr>\") %>%\n",
    "  ggplot(aes(x = fct_reorder(term, estimate), y = estimate, ymax = conf.high, ymin = conf.low)) +\n",
    "  geom_pointrange() +\n",
    "  coord_flip() +\n",
    "  labs(y = \"Estimate\", x = \"\")\n"
   ]
  },
  {
   "cell_type": "markdown",
   "metadata": {},
   "source": [
    "The interaction term shows a similar disparity as the logistic regression above.\n",
    "\n",
    "High risk white defendants are 3.61 more likely than low risk white defendants, while High risk black defendants are 2.99 more likely than low.\n"
   ]
  },
  {
   "cell_type": "code",
   "execution_count": null,
   "metadata": {},
   "outputs": [],
   "source": [
    "%%R\n",
    "\n",
    "visualize_surv <- function(input){\n",
    "f <- Surv(start, end, event, type=\"counting\") ~ score_factor\n",
    "\n",
    "fit <- survfit(f, data = input)\n",
    "\n",
    "fit %>%\n",
    "    tidy(conf.int = TRUE) %>%\n",
    "    mutate(strata = gsub(\"score_factor=\",\"\", strata)) %>%\n",
    "    mutate(strata = factor(strata, levels = c(\"High\",\"Medium\",\"Low\"))) %>%\n",
    "    ggplot(aes(x = time, y = estimate, ymax = conf.high, ymin = conf.low, group = strata, col = strata)) +\n",
    "    geom_pointrange(alpha = 0.1) +\n",
    "    guides(colour = guide_legend(override.aes = list(alpha = 1))) +\n",
    "    ylim(c(0, 1)) +\n",
    "    labs(x = \"Time\", y = \"Estimated survival rate\", col = \"Strata\")}"
   ]
  },
  {
   "cell_type": "code",
   "execution_count": null,
   "metadata": {},
   "outputs": [],
   "source": [
    "%%R\n",
    "\n",
    "visualize_surv(df) + ggtitle(\"Overall\")"
   ]
  },
  {
   "cell_type": "markdown",
   "metadata": {},
   "source": [
    "Black defendants do recidivate at higher rates according to race specific Kaplan Meier plots.\n"
   ]
  },
  {
   "cell_type": "code",
   "execution_count": null,
   "metadata": {},
   "outputs": [],
   "source": [
    "%%R\n",
    "\n",
    "(df %>% filter(race == \"Caucasian\") %>% visualize_surv() + ggtitle(\"Caucasian\")) /\n",
    "(df %>% filter(race == \"African-American\") %>% visualize_surv() + ggtitle(\"African-American\")) \n"
   ]
  },
  {
   "cell_type": "markdown",
   "metadata": {},
   "source": [
    "In terms of underlying recidivism rates, we can look at gender specific Kaplan Meier estimates. There is a striking difference between women and men."
   ]
  },
  {
   "cell_type": "code",
   "execution_count": null,
   "metadata": {},
   "outputs": [],
   "source": [
    "%%R\n",
    "\n",
    "(df %>% filter(sex == \"Female\") %>% visualize_surv() + ggtitle(\"Female\")) /\n",
    "(df %>% filter(sex == \"Male\") %>% visualize_surv() + ggtitle(\"Male\"))"
   ]
  },
  {
   "cell_type": "markdown",
   "metadata": {},
   "source": [
    "As these plots show, the COMPAS score treats a High risk women the same as a Medium risk man."
   ]
  },
  {
   "cell_type": "markdown",
   "metadata": {},
   "source": [
    "## Risk of Recidivism Accuracy\n",
    "\n",
    "The above analysis shows that the Compas algorithm does overpredict African-American defendant's future recidivism, but we haven't yet explored the direction of the bias. We can discover fine differences in overprediction and underprediction by comparing Compas scores across racial lines.\n"
   ]
  },
  {
   "cell_type": "code",
   "execution_count": null,
   "metadata": {},
   "outputs": [],
   "source": [
    "from truth_tables import PeekyReader, Person, table, is_race, count, vtable, hightable, vhightable\n",
    "from csv import DictReader\n",
    "\n",
    "people = []\n",
    "with open(\"/home/jae/bias-in-ml/compas/data/cox-parsed.csv\") as f:\n",
    "    reader = PeekyReader(DictReader(f))\n",
    "    try:\n",
    "        while True:\n",
    "            p = Person(reader)\n",
    "            if p.valid:\n",
    "                people.append(p)\n",
    "    except StopIteration:\n",
    "        pass\n",
    "\n",
    "pop = list(filter(lambda i: ((i.recidivist == True and i.lifetime <= 730) or\n",
    "                              i.lifetime > 730), list(filter(lambda x: x.score_valid, people))))\n",
    "\n",
    "recid = list(filter(lambda i: i.recidivist == True and i.lifetime <= 730, pop))\n",
    "\n",
    "rset = set(recid)\n",
    "\n",
    "surv = [i for i in pop if i not in rset]"
   ]
  },
  {
   "cell_type": "markdown",
   "metadata": {},
   "source": [
    "Define a function for a bar plot."
   ]
  },
  {
   "cell_type": "code",
   "execution_count": null,
   "metadata": {},
   "outputs": [],
   "source": [
    "import matplotlib.pyplot as plt\n",
    "\n",
    "def bar_plot(x, y):\n",
    "    t = table(list(x), list(y))\n",
    "\n",
    "    plt.bar(range(len(t)), list(t.values()), align='center') # Create a bar graph \n",
    "    plt.xticks(range(len(t)), list(t.keys())) # Create xlabel names "
   ]
  },
  {
   "cell_type": "code",
   "execution_count": null,
   "metadata": {},
   "outputs": [],
   "source": [
    "bar_plot(recid, surv)\n",
    "plt.title(\"All defendants\")\n",
    "plt.show()"
   ]
  },
  {
   "cell_type": "markdown",
   "metadata": {},
   "source": [
    "- That number is higher for African Americans at 44.85% and lower for whites at 23.45%."
   ]
  },
  {
   "cell_type": "code",
   "execution_count": null,
   "metadata": {},
   "outputs": [],
   "source": [
    "\n",
    "is_afam = is_race(\"African-American\")\n",
    "\n",
    "bar_plot(filter(is_afam, recid), filter(is_afam, surv))\n",
    "plt.title(\"Black defendants\")\n",
    "plt.show()\n",
    "\n",
    "is_white = is_race(\"Caucasian\")\n",
    "\n",
    "bar_plot(filter(is_white, recid), filter(is_white, surv))\n",
    "plt.title(\"White defendants\")\n",
    "plt.show()"
   ]
  },
  {
   "cell_type": "markdown",
   "metadata": {},
   "source": [
    "## Risk of Violent Recidivism \n",
    "\n",
    "Compas also offers a score that aims to measure a persons risk of violent recidivism, which has a similar overall accuracy to the Recidivism score."
   ]
  },
  {
   "cell_type": "code",
   "execution_count": null,
   "metadata": {},
   "outputs": [],
   "source": [
    "vpeople = []\n",
    "with open(\"/home/jae/compas-analysis/data/cox-violent-parsed.csv\") as f:\n",
    "    reader = PeekyReader(DictReader(f))\n",
    "    try:\n",
    "        while True:\n",
    "            p = Person(reader)\n",
    "            if p.valid:\n",
    "                vpeople.append(p)\n",
    "    except StopIteration:\n",
    "        pass\n",
    "\n",
    "vpop = list(filter(lambda i: ((i.violent_recidivist == True and i.lifetime <= 730) or\n",
    "                              i.lifetime > 730), list(filter(lambda x: x.vscore_valid, vpeople))))\n",
    "vrecid = list(filter(lambda i: i.violent_recidivist == True and i.lifetime <= 730, vpeople))\n",
    "vrset = set(vrecid)\n",
    "vsurv = [i for i in vpop if i not in vrset]"
   ]
  },
  {
   "cell_type": "code",
   "execution_count": null,
   "metadata": {},
   "outputs": [],
   "source": [
    "\n",
    "bar_plot(vrecid, vsurv)\n",
    "plt.title(\"All defendants\")\n",
    "plt.show()\n"
   ]
  },
  {
   "cell_type": "markdown",
   "metadata": {},
   "source": [
    "Even more so for Black defendants."
   ]
  },
  {
   "cell_type": "code",
   "execution_count": null,
   "metadata": {},
   "outputs": [],
   "source": [
    "is_afam = is_race(\"African-American\")\n",
    "\n",
    "bar_plot(filter(is_afam, vrecid), filter(is_afam, vsurv))\n",
    "plt.title(\"Black defendants\")\n",
    "plt.show()\n",
    "\n",
    "is_white = is_race(\"Caucasian\")\n",
    "\n",
    "bar_plot(filter(is_white, vrecid), filter(is_white, vsurv))\n",
    "plt.title(\"White defendants\")\n",
    "plt.show()\n"
   ]
  }
 ],
 "metadata": {
  "kernelspec": {
   "display_name": "Python 3",
   "language": "python",
   "name": "python3"
  },
  "language_info": {
   "codemirror_mode": {
    "name": "ipython",
    "version": 3
   },
   "file_extension": ".py",
   "mimetype": "text/x-python",
   "name": "python",
   "nbconvert_exporter": "python",
   "pygments_lexer": "ipython3",
   "version": "3.7.4"
  },
  "toc": {
   "base_numbering": 1,
   "nav_menu": {},
   "number_sections": true,
   "sideBar": true,
   "skip_h1_title": false,
   "title_cell": "Table of Contents",
   "title_sidebar": "Contents",
   "toc_cell": false,
   "toc_position": {
    "height": "calc(100% - 180px)",
    "left": "10px",
    "top": "150px",
    "width": "165px"
   },
   "toc_section_display": true,
   "toc_window_display": true
  }
 },
 "nbformat": 4,
 "nbformat_minor": 4
}
