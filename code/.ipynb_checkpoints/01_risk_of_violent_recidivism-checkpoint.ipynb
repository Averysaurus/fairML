{
 "cells": [
  {
   "cell_type": "markdown",
   "metadata": {},
   "source": [
    "# COMPAS Analysis revisisted "
   ]
  },
  {
   "cell_type": "code",
   "execution_count": null,
   "metadata": {},
   "outputs": [],
   "source": [
    "from IPython.display import HTML\n",
    "\n",
    "HTML(\"\"\"\n",
    "   <iframe width=\"560\" height=\"315\" src=\"https://www.youtube.com/embed/Gi4YeRqfb24\" frameborder=\"0\" allow=\"accelerometer; autoplay; encrypted-media; gyroscope; picture-in-picture\" allowfullscreen></iframe>\n",
    "\"\"\")"
   ]
  },
  {
   "cell_type": "markdown",
   "metadata": {},
   "source": [
    "Watch the above PBS video clip to get some sense of how algorithms influence mass incarceration."
   ]
  },
  {
   "cell_type": "markdown",
   "metadata": {},
   "source": [
    "**COMAPS**: The [COMPAS](https://en.wikipedia.org/wiki/COMPAS_(software)) (Correctional Offender Management Profiling for Alternative Sanctions) algorithm, the proprietary recidivism algorithm developed by Northpointe. According to [Northpointe's practitioners guide](http://www.crj.org/assets/2017/07/9_Machine_bias_rejoinder.pdf), recidivism was defined \"as a new arrest within two years\". The COMPAS algorithm is \"one of the most popular scores used nationwide\" and \"is increasingly being used in pretrial and sentencing\" (front-end of the criminal justice system).\n",
    "\n",
    "**Machine bias**: ProPublica analyzed the COMPAS data to investigate machine bias. ProPublica examined \"more than 10,000 criminal defendants\" in Broward County, Florida\", a large jurisdiction using the COMPAS tool \"in pretrial release decisions\" and Florida has strong open-record laws. They originally acquired data for 18,610 people who were scored by the algorithm in 2013 and 2014 and then reduced it to 11,757 people who were assessed at the pretrial stage. They merged this data with the criminal records from the Broward County Clerk's Office to document each defendant's criminal history and the jail records from the Broward County Sheriff's Office to compile their record of incarceration, and applied the race classifications used by the Broward County Sheriff's Office to determine their race. \n",
    "\n",
    "**Bias in the data**\n",
    "\n",
    "**Key scores**: All of these scores for each defendant were measured on a 1-10 scale, with ten being the highest risk. 1-4: Low, 5-7: Medium, 8-10: High.\n",
    "\n",
    "1. Risk of Recidivism \n",
    "2. Risk of Violence \n",
    "3. Risk of Failure to Appear \n",
    "\n",
    "They then \"compared their predicted recidivism rates with the rate that actually occurred over a two-year period\". \"When most defendants are booked in jail, they respond to a COMPAS questionnaire.\" Theirs answers are used to \"generate several scores including predictions of \"Risk of Recidivism\" and \"Risk of Violent Recidivism.\"\n",
    "\n",
    "ProPublica found both significant degrees of false positives and false negatives.\n",
    "\n",
    "**Bias in the algorithm**\n",
    "\n",
    "1. False positives: \n",
    "    - \"Black defendants were far more likely than white defendants to be incorrectly judged to be at a higher risk of recidivism.\"\n",
    "2. False negatives: \n",
    "    - \"White defendants were more likely than black defendants to be incorrectly flagged as low risk.\"\n"
   ]
  },
  {
   "cell_type": "markdown",
   "metadata": {},
   "source": [
    "**Our contributions**\n",
    "We simplified and extended the ProPublica's analysis of the COMPAS Recidivism Risk Scores. We incorporated [the methodology](https://www.propublica.org/article/how-we-analyzed-the-compas-recidivism-algorithm/) section of their project into the same notebook. We also added our own code, comments, and analysis to and brought in the recent discussions on the COMPAS."
   ]
  },
  {
   "cell_type": "markdown",
   "metadata": {},
   "source": [
    "**Previous research**\n",
    "\n",
    "https://papers.ssrn.com/sol3/papers.cfm?abstract_id=2687339\n",
    "\n",
    "Jennifer Skeem at University of California, Berkeley \n",
    " \n",
    "\"The authors found that the average risk score for black offenders was higher than for white offenders, but that concluded the differences were not attributable to bias.\"\n",
    "\n",
    "https://www.researchgate.net/publication/258920739_Thirty_Years_of_Research_on_the_Level_of_Service_Scales_A_Meta-Analytic_Examination_of_Predictive_Accuracy_and_Sources_of_Variability\n",
    "\n",
    "\"That study found that “ethnic minorities have higher LS scores than nonminorities.” The study authors, who are Canadian, noted that racial disparities were more consistently found in the U.S. than in Canada. “One possibility may be that systematic bias within the justice system may distort the measurement of ‘true’ recidivism,” they wrote.\"\n",
    "\n",
    "\"Kevin Whiteacre of the Salvation Army Correctional Services Program, found that 42.7 percent of African Americans were incorrectly classified as high risk, compared with 27.7 percent of Caucasians and 25 percent of Hispanics. That study urged correctional facilities to investigate the their use of the scores independently using a simple contingency table approach that we follow later in this study.\"\n",
    "\n",
    "Rejoinder to the Propublic's analysis \n",
    "\n",
    "http://www.crj.org/assets/2017/07/9_Machine_bias_rejoinder.pdf"
   ]
  },
  {
   "cell_type": "markdown",
   "metadata": {},
   "source": [
    "## Setup"
   ]
  },
  {
   "cell_type": "code",
   "execution_count": 1,
   "metadata": {},
   "outputs": [
    {
     "name": "stderr",
     "output_type": "stream",
     "text": [
      "/home/jae/anaconda3/lib/python3.6/site-packages/rpy2/robjects/pandas2ri.py:14: FutureWarning: pandas.core.index is deprecated and will be removed in a future version.  The public classes are available in the top-level namespace.\n",
      "  from pandas.core.index import Index as PandasIndex\n"
     ]
    }
   ],
   "source": [
    "################# To use R in Jupyter Notebook ###############\n",
    "import rpy2.ipython\n",
    "%load_ext rpy2.ipython\n",
    "\n",
    "################# To ignore warnings ##################\n",
    "import warnings\n",
    "warnings.filterwarnings('ignore')\n",
    "\n",
    "################## To have multiple outputs ###################\n",
    "from IPython.core.interactiveshell import InteractiveShell\n",
    "InteractiveShell.ast_node_interactivity = \"all\" \n",
    "\n",
    "from IPython.display import display"
   ]
  },
  {
   "cell_type": "markdown",
   "metadata": {},
   "source": [
    "## Load R packages "
   ]
  },
  {
   "cell_type": "code",
   "execution_count": 2,
   "metadata": {},
   "outputs": [],
   "source": [
    "%%R\n",
    "if (!require(\"pacman\")) install.packages(\"pacman\")\n",
    "pacman::p_load(\n",
    " tidyverse, # tidyverse packages \n",
    " conflicted, # an alternative conflict resolution strategy \n",
    " ggthemes, # for more themes \n",
    " patchwork, # for arranging ggplots\n",
    " scales, # for rescales \n",
    " survival, # for survival analysis\n",
    " ggfortify, # # data viz tools for statistical analysis\n",
    " grid, # for adding grids \n",
    " gridExtra, # for grid graphics \n",
    " broom, # for modeling\n",
    " reticulate # Python enginge for R markdown\n",
    ")\n",
    "\n",
    "# To avoid conflicts \n",
    "conflict_prefer(\"filter\", \"dplyr\") \n",
    "conflict_prefer(\"select\", \"dplyr\") "
   ]
  },
  {
   "cell_type": "markdown",
   "metadata": {
    "toc-hr-collapsed": false
   },
   "source": [
    "# Bias in the Data \n"
   ]
  },
  {
   "cell_type": "markdown",
   "metadata": {},
   "source": [
    "## Loading the Data \n",
    "\n",
    "We select fields for severity of charge, number of priors, demographics, age, sex, COMPAS scores, and whether each person was accused of a crime within two years.\n",
    "\n",
    "- N of observations (rows): 7,214\n",
    "- N of variables (columns): 53"
   ]
  },
  {
   "cell_type": "code",
   "execution_count": 34,
   "metadata": {},
   "outputs": [],
   "source": [
    "%%R\n",
    "two_years <- read_csv(\"/home/jae/bias-in-ml/compas/data/compas-scores-two-years.csv\")\n",
    "two_years_violent <- read_csv(\"/home/jae/bias-in-ml/compas/data/compas-scores-two-years-violent.csv\")\n"
   ]
  },
  {
   "cell_type": "markdown",
   "metadata": {},
   "source": [
    "\n",
    "## Wrangling data \n",
    "\n",
    "- Not all of the observations are useable for the first round of analysis.\n",
    "- There are a number of reasons to remove rows because of missing data:\n",
    "    - If the charge date of a defendants COMPAS scored crime was not within 30 days from when the person was arrested, we assume that because of data quality reasons, that we do not have the right offense.\n",
    "    - We coded the recidivist flag -- is_recid -- to be -1 if we could not find a COMPAS case at all.\n",
    "    - In a similar vein, ordinary traffic offenses -- those with a c_charge_degree of 'O' -- will not result in Jail time are removed (only two of them).\n",
    "    - We filtered the underlying data from Broward county to include only those rows representing people who had either recidivated in two years, or had at least two years outside of a correctional facility."
   ]
  },
  {
   "cell_type": "markdown",
   "metadata": {},
   "source": [
    "### Create a function"
   ]
  },
  {
   "cell_type": "code",
   "execution_count": 4,
   "metadata": {},
   "outputs": [],
   "source": [
    "%%R\n",
    "\n",
    "wrangle_data <- function(data){\n",
    "\n",
    "df <- data %>% \n",
    "    \n",
    "    # Select variables \n",
    "    select(age, c_charge_degree, race, age_cat, score_text, sex, priors_count, \n",
    "         days_b_screening_arrest, decile_score, is_recid, two_year_recid, \n",
    "         c_jail_in, c_jail_out) %>% \n",
    "    # Filter rows \n",
    "    filter(days_b_screening_arrest <= 30,\n",
    "           days_b_screening_arrest >= -30, \n",
    "           is_recid != -1,\n",
    "           c_charge_degree != \"O\",\n",
    "           score_text != 'N/A') %>% \n",
    "    # Mutate variables \n",
    "    mutate(length_of_stay = as.numeric(as.Date(c_jail_out) - as.Date(c_jail_in)),\n",
    "           c_charge_degree = factor(c_charge_degree),\n",
    "           age_cat = factor(age_cat),\n",
    "           race = factor(race, levels = c(\"Caucasian\",\"African-American\",\"Hispanic\",\"Other\",\"Asian\",\"Native American\")),\n",
    "           sex = factor(sex, levels = c(\"Male\",\"Female\")),\n",
    "           score_text = factor(score_text, levels = c(\"Low\", \"Medium\", \"High\"))) %>%\n",
    "    # Rename variables \n",
    "    rename(crime = c_charge_degree,\n",
    "           gender = sex,\n",
    "           score = score_text)\n",
    "        \n",
    "return(df)}\n",
    "\n",
    "select(age, c_charge_degree, race, age_cat, v_score_text, sex, priors_count, \n",
    "       days_b_screening_arrest, v_decile_score, is_recid, two_year_recid)"
   ]
  },
  {
   "cell_type": "markdown",
   "metadata": {},
   "source": [
    "### Apply the function to the data "
   ]
  },
  {
   "cell_type": "code",
   "execution_count": 5,
   "metadata": {},
   "outputs": [],
   "source": [
    "%%R\n",
    "\n",
    "df <- wrangle_data(two_years)"
   ]
  },
  {
   "cell_type": "code",
   "execution_count": 6,
   "metadata": {},
   "outputs": [
    {
     "data": {
      "text/plain": [
       " [1] \"age\"                     \"crime\"                  \n",
       " [3] \"race\"                    \"age_cat\"                \n",
       " [5] \"score\"                   \"gender\"                 \n",
       " [7] \"priors_count\"            \"days_b_screening_arrest\"\n",
       " [9] \"decile_score\"            \"is_recid\"               \n",
       "[11] \"two_year_recid\"          \"c_jail_in\"              \n",
       "[13] \"c_jail_out\"              \"length_of_stay\"         \n"
      ]
     },
     "metadata": {},
     "output_type": "display_data"
    }
   ],
   "source": [
    "%%R\n",
    "\n",
    "names(df)"
   ]
  },
  {
   "cell_type": "code",
   "execution_count": 7,
   "metadata": {},
   "outputs": [
    {
     "data": {
      "text/plain": [
       "\u001b[90m# A tibble: 5 x 14\u001b[39m\n",
       "    age crime race  age_cat score gender priors_count days_b_screenin…\n",
       "  \u001b[3m\u001b[90m<int>\u001b[39m\u001b[23m \u001b[3m\u001b[90m<fct>\u001b[39m\u001b[23m \u001b[3m\u001b[90m<fct>\u001b[39m\u001b[23m \u001b[3m\u001b[90m<fct>\u001b[39m\u001b[23m   \u001b[3m\u001b[90m<fct>\u001b[39m\u001b[23m \u001b[3m\u001b[90m<fct>\u001b[39m\u001b[23m         \u001b[3m\u001b[90m<int>\u001b[39m\u001b[23m            \u001b[3m\u001b[90m<int>\u001b[39m\u001b[23m\n",
       "\u001b[90m1\u001b[39m    69 F     Other Greate… Low   Male              0               -\u001b[31m1\u001b[39m\n",
       "\u001b[90m2\u001b[39m    34 F     Afri… 25 - 45 Low   Male              0               -\u001b[31m1\u001b[39m\n",
       "\u001b[90m3\u001b[39m    24 F     Afri… Less t… Low   Male              4               -\u001b[31m1\u001b[39m\n",
       "\u001b[90m4\u001b[39m    44 M     Other 25 - 45 Low   Male              0                0\n",
       "\u001b[90m5\u001b[39m    41 F     Cauc… 25 - 45 Medi… Male             14               -\u001b[31m1\u001b[39m\n",
       "\u001b[90m# … with 6 more variables: decile_score \u001b[3m\u001b[90m<int>\u001b[90m\u001b[23m, is_recid \u001b[3m\u001b[90m<int>\u001b[90m\u001b[23m,\n",
       "#   two_year_recid \u001b[3m\u001b[90m<int>\u001b[90m\u001b[23m, c_jail_in \u001b[3m\u001b[90m<dttm>\u001b[90m\u001b[23m, c_jail_out \u001b[3m\u001b[90m<dttm>\u001b[90m\u001b[23m,\n",
       "#   length_of_stay \u001b[3m\u001b[90m<dbl>\u001b[90m\u001b[23m\u001b[39m\n"
      ]
     },
     "metadata": {},
     "output_type": "display_data"
    }
   ],
   "source": [
    "%%R\n",
    "\n",
    "head(df, 5) # Check whether the function works as planned "
   ]
  },
  {
   "cell_type": "markdown",
   "metadata": {},
   "source": [
    "## Descriptive analysis\n",
    "\n",
    "- Higher COMPAS scores are slightly correlated with a longer length of stay."
   ]
  },
  {
   "cell_type": "code",
   "execution_count": 8,
   "metadata": {},
   "outputs": [
    {
     "data": {
      "text/plain": [
       "[1] 0.2073297\n"
      ]
     },
     "metadata": {},
     "output_type": "display_data"
    }
   ],
   "source": [
    "%%R\n",
    "\n",
    "cor(df$length_of_stay, df$decile_score)"
   ]
  },
  {
   "cell_type": "markdown",
   "metadata": {},
   "source": [
    "- Score distribution "
   ]
  },
  {
   "cell_type": "code",
   "execution_count": 9,
   "metadata": {},
   "outputs": [
    {
     "data": {
      "image/png": "[encoded data removed]"
     },
     "metadata": {},
     "output_type": "display_data"
    }
   ],
   "source": [
    "%%R\n",
    "\n",
    "# Set theme \n",
    "theme_set(theme_base())\n",
    "\n",
    "df %>%\n",
    "  group_by(score) %>%\n",
    "  count() %>%\n",
    "  ggplot(aes(x = score, y = n)) +\n",
    "    geom_col() +\n",
    "    labs(x = \"Score\",\n",
    "         y = \"Count\",\n",
    "         title = \"Score distribution\")"
   ]
  },
  {
   "cell_type": "markdown",
   "metadata": {},
   "source": [
    "\n",
    "Judges are often presented with two sets of scores from the COMPAS system -- one that classifies people into High, Medium and Low risk, and a corresponding decile score. There is a clear downward trend in the decile scores as those scores increase for white defendants.\n"
   ]
  },
  {
   "cell_type": "code",
   "execution_count": 10,
   "metadata": {},
   "outputs": [
    {
     "data": {
      "image/png": "[encoded data removed]"
     },
     "metadata": {},
     "output_type": "display_data"
    }
   ],
   "source": [
    "%%R\n",
    "\n",
    "df %>%\n",
    "  ggplot(aes(ordered(decile_score))) + \n",
    "          geom_bar() +\n",
    "          facet_wrap(~race, nrow = 2) +\n",
    "          labs(x = \"Decile Score\",\n",
    "               y = \"Count\",\n",
    "               Title = \"Defendant's Decile Score\")"
   ]
  },
  {
   "cell_type": "markdown",
   "metadata": {},
   "source": [
    "## Modeling \n",
    "\n",
    "After filtering out bad rows, our first question is whether there is a significant difference in COMPAS scores between races. To do so we need to change some variables into factors, and run a logistic regression, comparing low scores to high scores."
   ]
  },
  {
   "cell_type": "code",
   "execution_count": 11,
   "metadata": {},
   "outputs": [
    {
     "data": {
      "text/plain": [
       "\u001b[90m# A tibble: 12 x 7\u001b[39m\n",
       "   term                estimate std.error statistic   p.value conf.low conf.high\n",
       "   \u001b[3m\u001b[90m<chr>\u001b[39m\u001b[23m                  \u001b[3m\u001b[90m<dbl>\u001b[39m\u001b[23m     \u001b[3m\u001b[90m<dbl>\u001b[39m\u001b[23m     \u001b[3m\u001b[90m<dbl>\u001b[39m\u001b[23m     \u001b[3m\u001b[90m<dbl>\u001b[39m\u001b[23m    \u001b[3m\u001b[90m<dbl>\u001b[39m\u001b[23m     \u001b[3m\u001b[90m<dbl>\u001b[39m\u001b[23m\n",
       "\u001b[90m 1\u001b[39m raceNative American    1.39     0.766      1.82  6.88\u001b[90me\u001b[39m\u001b[31m-  2\u001b[39m  -\u001b[31m0\u001b[39m\u001b[31m.\u001b[39m\u001b[31m0\u001b[39m\u001b[31m56\u001b[4m9\u001b[24m\u001b[39m     3.04 \n",
       "\u001b[90m 2\u001b[39m age_catLess than 25    1.31     0.075\u001b[4m9\u001b[24m    17.2   1.53\u001b[90me\u001b[39m\u001b[31m- 66\u001b[39m   1.16       1.46 \n",
       "\u001b[90m 3\u001b[39m two_year_recid         0.686    0.064\u001b[4m0\u001b[24m    10.7   8.81\u001b[90me\u001b[39m\u001b[31m- 27\u001b[39m   0.560      0.811\n",
       "\u001b[90m 4\u001b[39m raceAfrican-Americ…    0.477    0.069\u001b[4m3\u001b[24m     6.88  5.93\u001b[90me\u001b[39m\u001b[31m- 12\u001b[39m   0.341      0.613\n",
       "\u001b[90m 5\u001b[39m priors_count           0.269    0.011\u001b[4m1\u001b[24m    24.2   1.34\u001b[90me\u001b[39m\u001b[31m-129\u001b[39m   0.248      0.291\n",
       "\u001b[90m 6\u001b[39m genderFemale           0.221    0.079\u001b[4m5\u001b[24m     2.78  5.39\u001b[90me\u001b[39m\u001b[31m-  3\u001b[39m   0.065\u001b[4m3\u001b[24m     0.377\n",
       "\u001b[90m 7\u001b[39m raceAsian             -\u001b[31m0\u001b[39m\u001b[31m.\u001b[39m\u001b[31m254\u001b[39m    0.478     -\u001b[31m0\u001b[39m\u001b[31m.\u001b[39m\u001b[31m532\u001b[39m 5.95\u001b[90me\u001b[39m\u001b[31m-  1\u001b[39m  -\u001b[31m1\u001b[39m\u001b[31m.\u001b[39m\u001b[31m26\u001b[39m       0.639\n",
       "\u001b[90m 8\u001b[39m crimeM                -\u001b[31m0\u001b[39m\u001b[31m.\u001b[39m\u001b[31m311\u001b[39m    0.066\u001b[4m5\u001b[24m    -\u001b[31m4\u001b[39m\u001b[31m.\u001b[39m\u001b[31m68\u001b[39m  2.91\u001b[90me\u001b[39m\u001b[31m-  6\u001b[39m  -\u001b[31m0\u001b[39m\u001b[31m.\u001b[39m\u001b[31m442\u001b[39m     -\u001b[31m0\u001b[39m\u001b[31m.\u001b[39m\u001b[31m181\u001b[39m\n",
       "\u001b[90m 9\u001b[39m raceHispanic          -\u001b[31m0\u001b[39m\u001b[31m.\u001b[39m\u001b[31m428\u001b[39m    0.128     -\u001b[31m3\u001b[39m\u001b[31m.\u001b[39m\u001b[31m34\u001b[39m  8.27\u001b[90me\u001b[39m\u001b[31m-  4\u001b[39m  -\u001b[31m0\u001b[39m\u001b[31m.\u001b[39m\u001b[31m682\u001b[39m     -\u001b[31m0\u001b[39m\u001b[31m.\u001b[39m\u001b[31m179\u001b[39m\n",
       "\u001b[90m10\u001b[39m raceOther             -\u001b[31m0\u001b[39m\u001b[31m.\u001b[39m\u001b[31m826\u001b[39m    0.162     -\u001b[31m5\u001b[39m\u001b[31m.\u001b[39m\u001b[31m10\u001b[39m  3.43\u001b[90me\u001b[39m\u001b[31m-  7\u001b[39m  -\u001b[31m1\u001b[39m\u001b[31m.\u001b[39m\u001b[31m15\u001b[39m      -\u001b[31m0\u001b[39m\u001b[31m.\u001b[39m\u001b[31m514\u001b[39m\n",
       "\u001b[90m11\u001b[39m age_catGreater tha…   -\u001b[31m1\u001b[39m\u001b[31m.\u001b[39m\u001b[31m36\u001b[39m     0.099\u001b[4m1\u001b[24m   -\u001b[31m13\u001b[39m\u001b[31m.\u001b[39m\u001b[31m7\u001b[39m   1.30\u001b[90me\u001b[39m\u001b[31m- 42\u001b[39m  -\u001b[31m1\u001b[39m\u001b[31m.\u001b[39m\u001b[31m55\u001b[39m      -\u001b[31m1\u001b[39m\u001b[31m.\u001b[39m\u001b[31m16\u001b[39m \n",
       "\u001b[90m12\u001b[39m (Intercept)           -\u001b[31m1\u001b[39m\u001b[31m.\u001b[39m\u001b[31m53\u001b[39m     0.078\u001b[4m5\u001b[24m   -\u001b[31m19\u001b[39m\u001b[31m.\u001b[39m\u001b[31m4\u001b[39m   4.30\u001b[90me\u001b[39m\u001b[31m- 84\u001b[39m  -\u001b[31m1\u001b[39m\u001b[31m.\u001b[39m\u001b[31m68\u001b[39m      -\u001b[31m1\u001b[39m\u001b[31m.\u001b[39m\u001b[31m37\u001b[39m \n"
      ]
     },
     "metadata": {},
     "output_type": "display_data"
    }
   ],
   "source": [
    "%%R\n",
    "\n",
    "model_data <- function(data){\n",
    "\n",
    "# Logistic regression model\n",
    "model <- glm(score ~ gender + age_cat + race + priors_count + crime + two_year_recid, \n",
    "             family = \"binomial\", data = data)\n",
    "\n",
    "# Extract model outcomes with confidence intervals \n",
    "model %>% \n",
    "  tidy(conf.int = TRUE)   \n",
    "}\n",
    "\n",
    "model_data(df) %>%\n",
    "    arrange(desc(estimate))"
   ]
  },
  {
   "cell_type": "code",
   "execution_count": 12,
   "metadata": {},
   "outputs": [],
   "source": [
    "%%R\n",
    "\n",
    "model <- model_data(df)"
   ]
  },
  {
   "cell_type": "code",
   "execution_count": 13,
   "metadata": {
    "scrolled": true
   },
   "outputs": [
    {
     "data": {
      "image/png": "[encoded data removed]"
     },
     "metadata": {},
     "output_type": "display_data"
    }
   ],
   "source": [
    "%%R\n",
    "\n",
    "model %>%\n",
    "  filter(term != \"(Intercept)\") %>%\n",
    "  ggplot(aes(x = fct_reorder(term, estimate), y = estimate, ymax = conf.high, ymin = conf.low)) +\n",
    "  geom_pointrange() +\n",
    "  coord_flip() +\n",
    "  labs(y = \"Estimate\", x = \"\")"
   ]
  },
  {
   "cell_type": "code",
   "execution_count": 14,
   "metadata": {},
   "outputs": [],
   "source": [
    "%%R\n",
    "\n",
    "interpret_estimate <- function(model){\n",
    "    \n",
    "    # Control \n",
    "    intercept <- model$estimate[model$term == \"(Intercept)\"]\n",
    "    control <- exp(intercept) / (1 + exp(intercept))\n",
    "    \n",
    "    # Likelihood \n",
    "    model <- model %>% filter(term != \"(Intercept)\")\n",
    "    \n",
    "    model$likelihood <- (exp(model$estimate) / (1 - control + (control * exp(model$estimate))))\n",
    "    \n",
    "    return(model)\n",
    "}"
   ]
  },
  {
   "cell_type": "code",
   "execution_count": 15,
   "metadata": {},
   "outputs": [],
   "source": [
    "%%R\n",
    "\n",
    "interpreted_model <- interpret_estimate(model)"
   ]
  },
  {
   "cell_type": "code",
   "execution_count": 16,
   "metadata": {},
   "outputs": [
    {
     "data": {
      "text/plain": [
       "\u001b[90m# A tibble: 11 x 8\u001b[39m\n",
       "   term     estimate std.error statistic   p.value conf.low conf.high likelihood\n",
       "   \u001b[3m\u001b[90m<chr>\u001b[39m\u001b[23m       \u001b[3m\u001b[90m<dbl>\u001b[39m\u001b[23m     \u001b[3m\u001b[90m<dbl>\u001b[39m\u001b[23m     \u001b[3m\u001b[90m<dbl>\u001b[39m\u001b[23m     \u001b[3m\u001b[90m<dbl>\u001b[39m\u001b[23m    \u001b[3m\u001b[90m<dbl>\u001b[39m\u001b[23m     \u001b[3m\u001b[90m<dbl>\u001b[39m\u001b[23m      \u001b[3m\u001b[90m<dbl>\u001b[39m\u001b[23m\n",
       "\u001b[90m 1\u001b[39m genderF…    0.221    0.079\u001b[4m5\u001b[24m     2.78  5.39\u001b[90me\u001b[39m\u001b[31m-  3\u001b[39m   0.065\u001b[4m3\u001b[24m     0.377      1.19 \n",
       "\u001b[90m 2\u001b[39m age_cat…   -\u001b[31m1\u001b[39m\u001b[31m.\u001b[39m\u001b[31m36\u001b[39m     0.099\u001b[4m1\u001b[24m   -\u001b[31m13\u001b[39m\u001b[31m.\u001b[39m\u001b[31m7\u001b[39m   1.30\u001b[90me\u001b[39m\u001b[31m- 42\u001b[39m  -\u001b[31m1\u001b[39m\u001b[31m.\u001b[39m\u001b[31m55\u001b[39m      -\u001b[31m1\u001b[39m\u001b[31m.\u001b[39m\u001b[31m16\u001b[39m       0.297\n",
       "\u001b[90m 3\u001b[39m age_cat…    1.31     0.075\u001b[4m9\u001b[24m    17.2   1.53\u001b[90me\u001b[39m\u001b[31m- 66\u001b[39m   1.16       1.46       2.50 \n",
       "\u001b[90m 4\u001b[39m raceAfr…    0.477    0.069\u001b[4m3\u001b[24m     6.88  5.93\u001b[90me\u001b[39m\u001b[31m- 12\u001b[39m   0.341      0.613      1.45 \n",
       "\u001b[90m 5\u001b[39m raceHis…   -\u001b[31m0\u001b[39m\u001b[31m.\u001b[39m\u001b[31m428\u001b[39m    0.128     -\u001b[31m3\u001b[39m\u001b[31m.\u001b[39m\u001b[31m34\u001b[39m  8.27\u001b[90me\u001b[39m\u001b[31m-  4\u001b[39m  -\u001b[31m0\u001b[39m\u001b[31m.\u001b[39m\u001b[31m682\u001b[39m     -\u001b[31m0\u001b[39m\u001b[31m.\u001b[39m\u001b[31m179\u001b[39m      0.695\n",
       "\u001b[90m 6\u001b[39m raceOth…   -\u001b[31m0\u001b[39m\u001b[31m.\u001b[39m\u001b[31m826\u001b[39m    0.162     -\u001b[31m5\u001b[39m\u001b[31m.\u001b[39m\u001b[31m10\u001b[39m  3.43\u001b[90me\u001b[39m\u001b[31m-  7\u001b[39m  -\u001b[31m1\u001b[39m\u001b[31m.\u001b[39m\u001b[31m15\u001b[39m      -\u001b[31m0\u001b[39m\u001b[31m.\u001b[39m\u001b[31m514\u001b[39m      0.487\n",
       "\u001b[90m 7\u001b[39m raceAsi…   -\u001b[31m0\u001b[39m\u001b[31m.\u001b[39m\u001b[31m254\u001b[39m    0.478     -\u001b[31m0\u001b[39m\u001b[31m.\u001b[39m\u001b[31m532\u001b[39m 5.95\u001b[90me\u001b[39m\u001b[31m-  1\u001b[39m  -\u001b[31m1\u001b[39m\u001b[31m.\u001b[39m\u001b[31m26\u001b[39m       0.639      0.808\n",
       "\u001b[90m 8\u001b[39m raceNat…    1.39     0.766      1.82  6.88\u001b[90me\u001b[39m\u001b[31m-  2\u001b[39m  -\u001b[31m0\u001b[39m\u001b[31m.\u001b[39m\u001b[31m0\u001b[39m\u001b[31m56\u001b[4m9\u001b[24m\u001b[39m     3.04       2.62 \n",
       "\u001b[90m 9\u001b[39m priors_…    0.269    0.011\u001b[4m1\u001b[24m    24.2   1.34\u001b[90me\u001b[39m\u001b[31m-129\u001b[39m   0.248      0.291      1.24 \n",
       "\u001b[90m10\u001b[39m crimeM     -\u001b[31m0\u001b[39m\u001b[31m.\u001b[39m\u001b[31m311\u001b[39m    0.066\u001b[4m5\u001b[24m    -\u001b[31m4\u001b[39m\u001b[31m.\u001b[39m\u001b[31m68\u001b[39m  2.91\u001b[90me\u001b[39m\u001b[31m-  6\u001b[39m  -\u001b[31m0\u001b[39m\u001b[31m.\u001b[39m\u001b[31m442\u001b[39m     -\u001b[31m0\u001b[39m\u001b[31m.\u001b[39m\u001b[31m181\u001b[39m      0.769\n",
       "\u001b[90m11\u001b[39m two_yea…    0.686    0.064\u001b[4m0\u001b[24m    10.7   8.81\u001b[90me\u001b[39m\u001b[31m- 27\u001b[39m   0.560      0.811      1.69 \n"
      ]
     },
     "metadata": {},
     "output_type": "display_data"
    }
   ],
   "source": [
    "%%R\n",
    "\n",
    "interpreted_model"
   ]
  },
  {
   "cell_type": "code",
   "execution_count": 30,
   "metadata": {},
   "outputs": [
    {
     "data": {
      "image/png": "[encoded data removed]"
     },
     "metadata": {},
     "output_type": "display_data"
    }
   ],
   "source": [
    "%%R\n",
    "\n",
    "interpreted_model %>%\n",
    "    ggplot(aes(x = fct_reorder(term, likelihood), y = likelihood)) +\n",
    "        geom_point(size = 3) +\n",
    "        coord_flip() +\n",
    "        labs(y = \"Likelihood\", x = \"\") +\n",
    "        annotate(\"text\", x = \"priors_count\", y = 0.6, label = \"Advantageous\", size = 4, color = \"blue\") +\n",
    "        annotate(\"text\", x = \"priors_count\", y = 2, label = \"Disadvantageous\", size = 4, color = \"red\") +\n",
    "        scale_y_continuous(labels = scales::percent_format(accuracy = 1)) +\n",
    "        geom_hline(yintercept = 1, linetype = \"dashed\") "
   ]
  },
  {
   "cell_type": "markdown",
   "metadata": {},
   "source": [
    "\n",
    "## Risk of Violent Recidivism \n",
    "\n",
    "\n",
    "COMPAS also offers a score that aims to measure a persons risk of violent recidivism, which has a similar overall accuracy to the Recidivism score. As before, we can use a logistic regression to test for racial bias.\n",
    "\n",
    "\n",
    "### Wrangling data\n"
   ]
  },
  {
   "cell_type": "code",
   "execution_count": null,
   "metadata": {},
   "outputs": [],
   "source": [
    "%%R\n",
    "\n",
    "# Select variables and rows \n",
    "\n",
    "df <- select(two_yaers_violent, age, c_charge_degree, race, age_cat, v_score_text, sex, priors_count, days_b_screening_arrest, v_decile_score, is_recid, two_year_recid) %>%\n",
    "      filter(days_b_screening_arrest <= 30,\n",
    "             days_b_screening_arrest >= -30, \n",
    "             is_recid != -1,\n",
    "             c_charge_degree != \"O\",\n",
    "             v_score_text != 'N/A')\n",
    "\n",
    "nrow(df)\n"
   ]
  },
  {
   "cell_type": "code",
   "execution_count": null,
   "metadata": {},
   "outputs": [],
   "source": [
    "%%R\n",
    "\n",
    "# Factorize key character variables \n",
    "\n",
    "df <- factorize(df)"
   ]
  },
  {
   "cell_type": "markdown",
   "metadata": {},
   "source": [
    "### Descriptive analysis"
   ]
  },
  {
   "cell_type": "code",
   "execution_count": null,
   "metadata": {},
   "outputs": [],
   "source": [
    "%%R\n",
    "\n",
    "summary(df$age_cat)"
   ]
  },
  {
   "cell_type": "code",
   "execution_count": null,
   "metadata": {},
   "outputs": [],
   "source": [
    "%%R\n",
    "\n",
    "summary(df$race)"
   ]
  },
  {
   "cell_type": "code",
   "execution_count": null,
   "metadata": {},
   "outputs": [],
   "source": [
    "%%R\n",
    "\n",
    "summary(df$v_score_text)"
   ]
  },
  {
   "cell_type": "code",
   "execution_count": null,
   "metadata": {},
   "outputs": [],
   "source": [
    "%%R\n",
    "\n",
    "nrow(filter(df, two_year_recid == 1)) / nrow(df) * 100"
   ]
  },
  {
   "cell_type": "code",
   "execution_count": null,
   "metadata": {},
   "outputs": [],
   "source": [
    "%%R\n",
    "\n",
    "nrow(filter(df, two_year_recid == 1))"
   ]
  },
  {
   "cell_type": "code",
   "execution_count": null,
   "metadata": {},
   "outputs": [],
   "source": [
    "%%R\n",
    "\n",
    "df %>%\n",
    "  ggplot(aes(ordered(v_decile_score))) + \n",
    "          geom_bar() +\n",
    "          facet_wrap(~race, nrow = 2) +\n",
    "          labs(x = \"Decile Score\",\n",
    "               y = \"Count\",\n",
    "               Title = \"Defendant's Violent Decile Score\")"
   ]
  },
  {
   "cell_type": "markdown",
   "metadata": {},
   "source": [
    "- Turn other factor variables into factors "
   ]
  },
  {
   "cell_type": "code",
   "execution_count": null,
   "metadata": {},
   "outputs": [],
   "source": [
    "%%R\n",
    "\n",
    "df <- df %>%\n",
    "  mutate(c_charge_degree = factor(c_charge_degree)) %>%\n",
    "  mutate(v_score_text = factor(v_score_text != \"Low\", labels = c(\"LowScore\",\"HighScore\"))) %>%\n",
    "  rename(crime = c_charge_degree,\n",
    "         gender = sex,\n",
    "         score = v_score_text)"
   ]
  },
  {
   "cell_type": "markdown",
   "metadata": {},
   "source": [
    "### Modeling "
   ]
  },
  {
   "cell_type": "code",
   "execution_count": null,
   "metadata": {},
   "outputs": [],
   "source": [
    "%%R\n",
    "\n",
    "model <- glm(score ~ gender + age_cat + race +\n",
    "                            priors_count + crime + two_year_recid, family=\"binomial\", data=df)\n",
    "\n",
    "model %>% \n",
    "  tidy(conf.int = TRUE) %>%  # with confidence intervals \n",
    "  filter(term != \"(Intercept)\") %>%\n",
    "  ggplot(aes(x = fct_reorder(term, estimate), y = estimate, ymax = conf.high, ymin = conf.low)) +\n",
    "  geom_pointrange() +\n",
    "  coord_flip() +\n",
    "  labs(y = \"Estimate\", x = \"\")"
   ]
  }
 ],
 "metadata": {
  "kernelspec": {
   "display_name": "Python 3",
   "language": "python",
   "name": "python3"
  },
  "language_info": {
   "codemirror_mode": {
    "name": "ipython",
    "version": 3
   },
   "file_extension": ".py",
   "mimetype": "text/x-python",
   "name": "python",
   "nbconvert_exporter": "python",
   "pygments_lexer": "ipython3",
   "version": "3.6.8"
  },
  "toc": {
   "base_numbering": 1,
   "nav_menu": {},
   "number_sections": true,
   "sideBar": true,
   "skip_h1_title": false,
   "title_cell": "Table of Contents",
   "title_sidebar": "Contents",
   "toc_cell": false,
   "toc_position": {
    "height": "calc(100% - 180px)",
    "left": "10px",
    "top": "150px",
    "width": "165px"
   },
   "toc_section_display": true,
   "toc_window_display": true
  }
 },
 "nbformat": 4,
 "nbformat_minor": 2
}
