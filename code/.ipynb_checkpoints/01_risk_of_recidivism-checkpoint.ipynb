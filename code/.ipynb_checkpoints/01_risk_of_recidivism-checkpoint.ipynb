{
 "cells": [
  {
   "cell_type": "markdown",
   "metadata": {},
   "source": [
    "# Risk of recidivism analysis \n",
    "\n",
    "## Setup"
   ]
  },
  {
   "cell_type": "code",
   "execution_count": 1,
   "metadata": {},
   "outputs": [],
   "source": [
    "################# To use R in Jupyter Notebook ###############\n",
    "import rpy2.ipython\n",
    "%load_ext rpy2.ipython\n",
    "\n",
    "################# To ignore warnings ##################\n",
    "import warnings\n",
    "warnings.filterwarnings('ignore')\n",
    "\n",
    "################## To have multiple outputs ###################\n",
    "from IPython.core.interactiveshell import InteractiveShell\n",
    "InteractiveShell.ast_node_interactivity = \"all\" \n",
    "\n",
    "from IPython.display import display"
   ]
  },
  {
   "cell_type": "markdown",
   "metadata": {},
   "source": [
    "## Load packages "
   ]
  },
  {
   "cell_type": "code",
   "execution_count": 2,
   "metadata": {},
   "outputs": [
    {
     "name": "stderr",
     "output_type": "stream",
     "text": [
      "R[write to console]: Loading required package: pacman\n",
      "\n",
      "R[write to console]: Warning:\n",
      "R[write to console]:  unable to access index for repository http://cran.rstudio.com/src/contrib:\n",
      "  cannot open URL 'http://cran.rstudio.com/src/contrib/PACKAGES'\n",
      "\n",
      "R[write to console]: [conflicted] Will prefer \u001b[34mdplyr::filter\u001b[39m over any other package\n",
      "\n",
      "R[write to console]: [conflicted] Will prefer \u001b[34mdplyr::select\u001b[39m over any other package\n",
      "\n"
     ]
    }
   ],
   "source": [
    "%%R\n",
    "if (!require(\"pacman\")) install.packages(\"pacman\", repos = \"http://cran.us.r-project.org\")\n",
    "pacman::p_load(\n",
    " tidyverse, # tidyverse packages \n",
    " conflicted, # an alternative conflict resolution strategy \n",
    " ggthemes, # for more themes \n",
    " patchwork, # for arranging ggplots\n",
    " scales, # for rescales \n",
    " survival, # for survival analysis\n",
    " ggfortify, # # data viz tools for statistical analysis\n",
    " grid, # for adding grids \n",
    " gridExtra, # for grid graphics \n",
    " broom, # for modeling\n",
    " olsrr, # for regression modeling\n",
    " ggfortify, # extensions of ggplot2 \n",
    " ggeffects # for generating predictions \n",
    ")\n",
    "\n",
    "# To avoid conflicts \n",
    "conflict_prefer(\"filter\", \"dplyr\") \n",
    "conflict_prefer(\"select\", \"dplyr\") "
   ]
  },
  {
   "cell_type": "markdown",
   "metadata": {
    "toc-hr-collapsed": false
   },
   "source": [
    "# Risk of recidivism\n"
   ]
  },
  {
   "cell_type": "markdown",
   "metadata": {},
   "source": [
    "## Loading data\n",
    "\n",
    "We select fields for severity of charge, number of priors, demographics, age, sex, COMPAS scores, and whether each person was accused of a crime within two years.\n",
    "\n",
    "- N of observations (rows): 7,214\n",
    "- N of variables (columns): 53"
   ]
  },
  {
   "cell_type": "code",
   "execution_count": 3,
   "metadata": {},
   "outputs": [
    {
     "name": "stderr",
     "output_type": "stream",
     "text": [
      "R[write to console]: Parsed with column specification:\n",
      "cols(\n",
      "  .default = col_character(),\n",
      "  id = \u001b[32mcol_double()\u001b[39m,\n",
      "  compas_screening_date = \u001b[34mcol_date(format = \"\")\u001b[39m,\n",
      "  dob = \u001b[34mcol_date(format = \"\")\u001b[39m,\n",
      "  age = \u001b[32mcol_double()\u001b[39m,\n",
      "  juv_fel_count = \u001b[32mcol_double()\u001b[39m,\n",
      "  decile_score = \u001b[32mcol_double()\u001b[39m,\n",
      "  juv_misd_count = \u001b[32mcol_double()\u001b[39m,\n",
      "  juv_other_count = \u001b[32mcol_double()\u001b[39m,\n",
      "  priors_count = \u001b[32mcol_double()\u001b[39m,\n",
      "  days_b_screening_arrest = \u001b[32mcol_double()\u001b[39m,\n",
      "  c_jail_in = \u001b[34mcol_datetime(format = \"\")\u001b[39m,\n",
      "  c_jail_out = \u001b[34mcol_datetime(format = \"\")\u001b[39m,\n",
      "  c_offense_date = \u001b[34mcol_date(format = \"\")\u001b[39m,\n",
      "  c_arrest_date = \u001b[34mcol_date(format = \"\")\u001b[39m,\n",
      "  c_days_from_compas = \u001b[32mcol_double()\u001b[39m,\n",
      "  is_recid = \u001b[32mcol_double()\u001b[39m,\n",
      "  r_days_from_arrest = \u001b[32mcol_double()\u001b[39m,\n",
      "  r_offense_date = \u001b[34mcol_date(format = \"\")\u001b[39m,\n",
      "  r_jail_in = \u001b[34mcol_date(format = \"\")\u001b[39m,\n",
      "  r_jail_out = \u001b[34mcol_date(format = \"\")\u001b[39m\n",
      "  # ... with 14 more columns\n",
      ")\n",
      "\n",
      "R[write to console]: See spec(...) for full column specifications.\n",
      "\n"
     ]
    },
    {
     "name": "stdout",
     "output_type": "stream",
     "text": [
      "[1] 7214   53\n"
     ]
    }
   ],
   "source": [
    "%%R\n",
    "two_years <- read_csv(\"/home/jae/compas-analysis/data/compas-scores-two-years.csv\")\n",
    "\n",
    "dim(two_years)"
   ]
  },
  {
   "cell_type": "markdown",
   "metadata": {},
   "source": [
    "\n",
    "## Wrangling data \n",
    "\n",
    "- Not all of the observations are useable for the first round of analysis.\n",
    "- There are a number of reasons to remove rows because of missing data:\n",
    "    - If the charge date of a defendants COMPAS scored crime was not within 30 days from when the person was arrested, we assume that because of data quality reasons, that we do not have the right offense.\n",
    "    - We coded the recidivist flag -- is_recid -- to be -1 if we could not find a COMPAS case at all.\n",
    "    - In a similar vein, ordinary traffic offenses -- those with a c_charge_degree of 'O' -- will not result in Jail time are removed (only two of them).\n",
    "    - We filtered the underlying data from Broward county to include only those rows representing people who had either recidivated in two years, or had at least two years outside of a correctional facility."
   ]
  },
  {
   "cell_type": "markdown",
   "metadata": {},
   "source": [
    "### Create a function"
   ]
  },
  {
   "cell_type": "code",
   "execution_count": 13,
   "metadata": {},
   "outputs": [],
   "source": [
    "%%R\n",
    "\n",
    "wrangle_data <- function(data){\n",
    "\n",
    "df <- data %>% \n",
    "    \n",
    "    # Select variables \n",
    "    select(age, c_charge_degree, race, age_cat, score_text, sex, priors_count, \n",
    "         days_b_screening_arrest, decile_score, is_recid, two_year_recid, \n",
    "         c_jail_in, c_jail_out) %>% \n",
    "    # Filter rows \n",
    "    filter(days_b_screening_arrest <= 30,\n",
    "           days_b_screening_arrest >= -30, \n",
    "           is_recid != -1,\n",
    "           c_charge_degree != \"O\",\n",
    "           score_text != 'N/A') %>% \n",
    "    # Mutate variables \n",
    "    mutate(length_of_stay = as.numeric(as.Date(c_jail_out) - as.Date(c_jail_in)),\n",
    "           c_charge_degree = factor(c_charge_degree),\n",
    "           age_cat = factor(age_cat),\n",
    "           race = factor(race, levels = c(\"Caucasian\",\"African-American\",\"Hispanic\",\"Other\",\"Asian\",\"Native American\")),\n",
    "           sex = factor(sex, levels = c(\"Male\",\"Female\")),\n",
    "           score_text = factor(score_text, levels = c(\"Low\", \"Medium\", \"High\")),\n",
    "           score = score_text,\n",
    "# I added this new variable to test whether measuring the DV as a binary or continuous var makes a difference \n",
    "           score_num = as.numeric(score_text)) %>% \n",
    "    # Rename variables \n",
    "    rename(crime = c_charge_degree,\n",
    "           gender = sex)\n",
    "        \n",
    "return(df)}"
   ]
  },
  {
   "cell_type": "markdown",
   "metadata": {},
   "source": [
    "### Apply the function to the data "
   ]
  },
  {
   "cell_type": "code",
   "execution_count": 26,
   "metadata": {},
   "outputs": [],
   "source": [
    "%%R\n",
    "\n",
    "df <- wrangle_data(two_years)"
   ]
  },
  {
   "cell_type": "code",
   "execution_count": 27,
   "metadata": {},
   "outputs": [
    {
     "name": "stdout",
     "output_type": "stream",
     "text": [
      " [1] \"age\"                     \"crime\"                  \n",
      " [3] \"race\"                    \"age_cat\"                \n",
      " [5] \"score_text\"              \"gender\"                 \n",
      " [7] \"priors_count\"            \"days_b_screening_arrest\"\n",
      " [9] \"decile_score\"            \"is_recid\"               \n",
      "[11] \"two_year_recid\"          \"c_jail_in\"              \n",
      "[13] \"c_jail_out\"              \"length_of_stay\"         \n",
      "[15] \"score\"                   \"score_num\"              \n"
     ]
    }
   ],
   "source": [
    "%%R\n",
    "\n",
    "names(df)"
   ]
  },
  {
   "cell_type": "code",
   "execution_count": 28,
   "metadata": {},
   "outputs": [
    {
     "name": "stdout",
     "output_type": "stream",
     "text": [
      "\u001b[90m# A tibble: 5 x 16\u001b[39m\n",
      "    age crime race  age_cat score_text gender priors_count days_b_screenin…\n",
      "  \u001b[3m\u001b[90m<dbl>\u001b[39m\u001b[23m \u001b[3m\u001b[90m<fct>\u001b[39m\u001b[23m \u001b[3m\u001b[90m<fct>\u001b[39m\u001b[23m \u001b[3m\u001b[90m<fct>\u001b[39m\u001b[23m   \u001b[3m\u001b[90m<fct>\u001b[39m\u001b[23m      \u001b[3m\u001b[90m<fct>\u001b[39m\u001b[23m         \u001b[3m\u001b[90m<dbl>\u001b[39m\u001b[23m            \u001b[3m\u001b[90m<dbl>\u001b[39m\u001b[23m\n",
      "\u001b[90m1\u001b[39m    69 F     Other Greate… Low        Male              0               -\u001b[31m1\u001b[39m\n",
      "\u001b[90m2\u001b[39m    34 F     Afri… 25 - 45 Low        Male              0               -\u001b[31m1\u001b[39m\n",
      "\u001b[90m3\u001b[39m    24 F     Afri… Less t… Low        Male              4               -\u001b[31m1\u001b[39m\n",
      "\u001b[90m4\u001b[39m    44 M     Other 25 - 45 Low        Male              0                0\n",
      "\u001b[90m5\u001b[39m    41 F     Cauc… 25 - 45 Medium     Male             14               -\u001b[31m1\u001b[39m\n",
      "\u001b[90m# … with 8 more variables: decile_score \u001b[3m\u001b[90m<dbl>\u001b[90m\u001b[23m, is_recid \u001b[3m\u001b[90m<dbl>\u001b[90m\u001b[23m,\n",
      "#   two_year_recid \u001b[3m\u001b[90m<dbl>\u001b[90m\u001b[23m, c_jail_in \u001b[3m\u001b[90m<dttm>\u001b[90m\u001b[23m, c_jail_out \u001b[3m\u001b[90m<dttm>\u001b[90m\u001b[23m,\n",
      "#   length_of_stay \u001b[3m\u001b[90m<dbl>\u001b[90m\u001b[23m, score \u001b[3m\u001b[90m<fct>\u001b[90m\u001b[23m, score_num \u001b[3m\u001b[90m<dbl>\u001b[90m\u001b[23m\u001b[39m\n"
     ]
    }
   ],
   "source": [
    "%%R\n",
    "\n",
    "head(df, 5) # Check whether the function works as planned "
   ]
  },
  {
   "cell_type": "markdown",
   "metadata": {},
   "source": [
    "## Descriptive analysis\n",
    "\n",
    "- Higher COMPAS scores are slightly correlated with a longer length of stay."
   ]
  },
  {
   "cell_type": "code",
   "execution_count": 29,
   "metadata": {},
   "outputs": [
    {
     "name": "stdout",
     "output_type": "stream",
     "text": [
      "[1] 0.2073297\n"
     ]
    }
   ],
   "source": [
    "%%R\n",
    "\n",
    "cor(df$length_of_stay, df$decile_score)"
   ]
  },
  {
   "cell_type": "markdown",
   "metadata": {},
   "source": [
    "- Score distribution "
   ]
  },
  {
   "cell_type": "code",
   "execution_count": 30,
   "metadata": {},
   "outputs": [
    {
     "data": {
      "image/png": "[encoded data removed]"
     },
     "metadata": {},
     "output_type": "display_data"
    }
   ],
   "source": [
    "%%R\n",
    "\n",
    "# Set theme \n",
    "theme_set(theme_base())\n",
    "\n",
    "df %>%\n",
    "  group_by(score) %>%\n",
    "  count() %>%\n",
    "  ggplot(aes(x = score, y = n)) +\n",
    "    geom_col() +\n",
    "    labs(x = \"Score\",\n",
    "         y = \"Count\",\n",
    "         title = \"Score distribution\")"
   ]
  },
  {
   "cell_type": "markdown",
   "metadata": {},
   "source": [
    "\n",
    "Judges are often presented with two sets of scores from the COMPAS system -- one that classifies people into High, Medium and Low risk, and a corresponding decile score. There is a clear downward trend in the decile scores as those scores increase for white defendants.\n"
   ]
  },
  {
   "cell_type": "code",
   "execution_count": 31,
   "metadata": {},
   "outputs": [
    {
     "data": {
      "image/png": "[encoded data removed]"
     },
     "metadata": {},
     "output_type": "display_data"
    }
   ],
   "source": [
    "%%R\n",
    "\n",
    "df %>%\n",
    "  ggplot(aes(ordered(decile_score))) + \n",
    "          geom_bar() +\n",
    "          facet_wrap(~race, nrow = 2) +\n",
    "          labs(x = \"Decile Score\",\n",
    "               y = \"Count\",\n",
    "               Title = \"Defendant's Decile Score\")"
   ]
  },
  {
   "cell_type": "markdown",
   "metadata": {},
   "source": [
    "## Modeling \n",
    "\n",
    "After filtering out bad rows, our first question is whether there is a significant difference in COMPAS scores between races. To do so we need to change some variables into factors, and run a logistic regression, comparing low scores to high scores."
   ]
  },
  {
   "cell_type": "code",
   "execution_count": 32,
   "metadata": {},
   "outputs": [],
   "source": [
    "%%R\n",
    "\n",
    "model_data <- function(data){\n",
    "\n",
    "# Logistic regression model\n",
    "lr_model <- glm(score ~ gender + age_cat + race + priors_count + crime + two_year_recid, \n",
    "             family = \"binomial\", data = data)\n",
    "\n",
    "# OLS\n",
    "ols_model1 <- lm(score_num ~ gender + age_cat + race + priors_count + crime + two_year_recid, \n",
    "             data = data)\n",
    "\n",
    "ols_model2 <- lm(decile_score ~ gender + age_cat + race + priors_count + crime + two_year_recid, \n",
    "             data = data)\n",
    "\n",
    "# Extract model outcomes with confidence intervals \n",
    "lr_est <- lr_model %>% \n",
    "    tidy(conf.int = TRUE) \n",
    "\n",
    "ols_est1 <- ols_model1 %>%\n",
    "    tidy(conf.int = TRUE) \n",
    "\n",
    "ols_est2 <- ols_model2 %>%\n",
    "    tidy(conf.int = TRUE) \n",
    "\n",
    "# AIC scores \n",
    "lr_AIC <- AIC(lr_model)\n",
    "ols_AIC1 <- AIC(ols_model1)\n",
    "ols_AIC2 <- AIC(ols_model2)\n",
    "    \n",
    "list(lr_est, ols_est1, ols_est2, lr_AIC, ols_AIC1, ols_AIC2)\n",
    "}\n"
   ]
  },
  {
   "cell_type": "markdown",
   "metadata": {},
   "source": [
    "### Model comparisons"
   ]
  },
  {
   "cell_type": "code",
   "execution_count": 33,
   "metadata": {},
   "outputs": [
    {
     "name": "stdout",
     "output_type": "stream",
     "text": [
      "AIC score of logistic regression:6192.40169473357\n",
      "AIC score of OLS regression (with categorical DV):11772.1148541111\n",
      "AIC score of OLS regression (with continuous DV):26779.9512226999"
     ]
    }
   ],
   "source": [
    "%%R\n",
    "\n",
    "cat(paste0(\"AIC score of logistic regression:\", model_data(df)[4], \"\\n\",\n",
    "           \"AIC score of OLS regression (with categorical DV):\", model_data(df)[5], \"\\n\",\n",
    "           \"AIC score of OLS regression (with continuous DV):\", model_data(df)[6]))"
   ]
  },
  {
   "cell_type": "markdown",
   "metadata": {},
   "source": [
    "### Logistic regression model"
   ]
  },
  {
   "cell_type": "code",
   "execution_count": 34,
   "metadata": {},
   "outputs": [],
   "source": [
    "%%R\n",
    "\n",
    "lr_model <- model_data(df)[1] %>% data.frame()"
   ]
  },
  {
   "cell_type": "code",
   "execution_count": 35,
   "metadata": {
    "scrolled": true
   },
   "outputs": [
    {
     "data": {
      "image/png": "[encoded data removed]"
     },
     "metadata": {},
     "output_type": "display_data"
    }
   ],
   "source": [
    "%%R\n",
    "\n",
    "lr_model %>%\n",
    "  data.frame() %>%\n",
    "  filter(term != \"(Intercept)\") %>%\n",
    "  mutate(term = gsub(\"race|age_cat|gender\",\"\", term)) %>%\n",
    "  ggplot(aes(x = fct_reorder(term, estimate), y = estimate, ymax = conf.high, ymin = conf.low)) +\n",
    "  geom_pointrange() +\n",
    "  coord_flip() +\n",
    "  labs(y = \"Estimate\", x = \"\",\n",
    "      title = \"Logistic regression\") +\n",
    "  geom_hline(yintercept = 0, linetype = \"dashed\")"
   ]
  },
  {
   "cell_type": "code",
   "execution_count": 24,
   "metadata": {},
   "outputs": [],
   "source": [
    "%%R\n",
    "\n",
    "interpret_estimate <- function(model){\n",
    "    \n",
    "    # Control \n",
    "    intercept <- model$estimate[model$term == \"(Intercept)\"]\n",
    "    control <- exp(intercept) / (1 + exp(intercept))\n",
    "    \n",
    "    # Likelihood \n",
    "    model <- model %>% filter(term != \"(Intercept)\")\n",
    "    \n",
    "    model$likelihood <- (exp(model$estimate) / (1 - control + (control * exp(model$estimate))))\n",
    "    \n",
    "    return(model)\n",
    "}"
   ]
  },
  {
   "cell_type": "code",
   "execution_count": 25,
   "metadata": {},
   "outputs": [
    {
     "data": {
      "image/png": "[encoded data removed]"
     },
     "metadata": {},
     "output_type": "display_data"
    }
   ],
   "source": [
    "%%R\n",
    "\n",
    "interpret_estimate(lr_model) %>%\n",
    "    mutate(term = gsub(\"race|age_cat|gender\",\"\", term)) %>% \n",
    "    ggplot(aes(x = fct_reorder(term, likelihood), y = likelihood)) +\n",
    "        geom_point(size = 3) +\n",
    "        coord_flip() +\n",
    "        labs(y = \"Likelihood\", x = \"\",\n",
    "            title =\"Logistic regression\") +\n",
    "        scale_y_continuous(labels = scales::percent_format(accuracy = 1)) +\n",
    "        geom_hline(yintercept = 1, linetype = \"dashed\")"
   ]
  }
 ],
 "metadata": {
  "kernelspec": {
   "display_name": "Python 3",
   "language": "python",
   "name": "python3"
  },
  "language_info": {
   "codemirror_mode": {
    "name": "ipython",
    "version": 3
   },
   "file_extension": ".py",
   "mimetype": "text/x-python",
   "name": "python",
   "nbconvert_exporter": "python",
   "pygments_lexer": "ipython3",
   "version": "3.7.4"
  },
  "toc": {
   "base_numbering": 1,
   "nav_menu": {},
   "number_sections": true,
   "sideBar": true,
   "skip_h1_title": false,
   "title_cell": "Table of Contents",
   "title_sidebar": "Contents",
   "toc_cell": false,
   "toc_position": {
    "height": "calc(100% - 180px)",
    "left": "10px",
    "top": "150px",
    "width": "165px"
   },
   "toc_section_display": true,
   "toc_window_display": false
  }
 },
 "nbformat": 4,
 "nbformat_minor": 4
}
