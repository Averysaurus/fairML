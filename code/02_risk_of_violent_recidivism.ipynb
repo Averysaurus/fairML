{
 "cells": [
  {
   "cell_type": "markdown",
   "metadata": {},
   "source": [
    "# Risk of violent recidivism \n",
    "\n",
    "## Setup"
   ]
  },
  {
   "cell_type": "code",
   "execution_count": 1,
   "metadata": {},
   "outputs": [],
   "source": [
    "################# To use R in Jupyter Notebook ###############\n",
    "import rpy2.ipython\n",
    "%load_ext rpy2.ipython\n",
    "\n",
    "################# To ignore warnings ##################\n",
    "import warnings\n",
    "warnings.filterwarnings('ignore')\n",
    "\n",
    "################## To have multiple outputs ###################\n",
    "from IPython.core.interactiveshell import InteractiveShell\n",
    "InteractiveShell.ast_node_interactivity = \"all\" \n",
    "\n",
    "from IPython.display import display"
   ]
  },
  {
   "cell_type": "markdown",
   "metadata": {},
   "source": [
    "## Load packages "
   ]
  },
  {
   "cell_type": "code",
   "execution_count": 2,
   "metadata": {},
   "outputs": [
    {
     "name": "stderr",
     "output_type": "stream",
     "text": [
      "R[write to console]: Loading required package: pacman\n",
      "\n",
      "R[write to console]: [conflicted] Will prefer \u001b[34mdplyr::filter\u001b[39m over any other package\n",
      "\n",
      "R[write to console]: [conflicted] Will prefer \u001b[34mdplyr::select\u001b[39m over any other package\n",
      "\n"
     ]
    }
   ],
   "source": [
    "%%R\n",
    "if (!require(\"pacman\")) install.packages(\"pacman\")\n",
    "pacman::p_load(\n",
    " tidyverse, # tidyverse packages \n",
    " conflicted, # an alternative conflict resolution strategy \n",
    " ggthemes, # for more themes \n",
    " patchwork, # for arranging ggplots\n",
    " scales, # for rescales \n",
    " survival, # for survival analysis\n",
    " ggfortify, # # data viz tools for statistical analysis\n",
    " grid, # for adding grids \n",
    " gridExtra, # for grid graphics \n",
    " broom, # for modeling\n",
    " reticulate # Python enginge for R markdown\n",
    ")\n",
    "\n",
    "# To avoid conflicts \n",
    "conflict_prefer(\"filter\", \"dplyr\") \n",
    "conflict_prefer(\"select\", \"dplyr\") "
   ]
  },
  {
   "cell_type": "markdown",
   "metadata": {},
   "source": [
    "## Loading data\n",
    "\n",
    "- N of observations (rows): 4,743\n",
    "- N of variables (columns): 54"
   ]
  },
  {
   "cell_type": "code",
   "execution_count": 3,
   "metadata": {},
   "outputs": [
    {
     "name": "stderr",
     "output_type": "stream",
     "text": [
      "R[write to console]: Parsed with column specification:\n",
      "cols(\n",
      "  .default = col_double(),\n",
      "  name = \u001b[31mcol_character()\u001b[39m,\n",
      "  first = \u001b[31mcol_character()\u001b[39m,\n",
      "  last = \u001b[31mcol_character()\u001b[39m,\n",
      "  compas_screening_date = \u001b[34mcol_date(format = \"\")\u001b[39m,\n",
      "  sex = \u001b[31mcol_character()\u001b[39m,\n",
      "  dob = \u001b[34mcol_date(format = \"\")\u001b[39m,\n",
      "  age_cat = \u001b[31mcol_character()\u001b[39m,\n",
      "  race = \u001b[31mcol_character()\u001b[39m,\n",
      "  c_jail_in = \u001b[34mcol_datetime(format = \"\")\u001b[39m,\n",
      "  c_jail_out = \u001b[34mcol_datetime(format = \"\")\u001b[39m,\n",
      "  c_case_number = \u001b[31mcol_character()\u001b[39m,\n",
      "  c_offense_date = \u001b[34mcol_date(format = \"\")\u001b[39m,\n",
      "  c_arrest_date = \u001b[34mcol_date(format = \"\")\u001b[39m,\n",
      "  c_charge_degree = \u001b[31mcol_character()\u001b[39m,\n",
      "  c_charge_desc = \u001b[31mcol_character()\u001b[39m,\n",
      "  r_case_number = \u001b[31mcol_character()\u001b[39m,\n",
      "  r_charge_degree = \u001b[31mcol_character()\u001b[39m,\n",
      "  r_offense_date = \u001b[34mcol_date(format = \"\")\u001b[39m,\n",
      "  r_charge_desc = \u001b[31mcol_character()\u001b[39m,\n",
      "  r_jail_in = \u001b[34mcol_date(format = \"\")\u001b[39m\n",
      "  # ... with 14 more columns\n",
      ")\n",
      "\n",
      "R[write to console]: See spec(...) for full column specifications.\n",
      "\n"
     ]
    },
    {
     "name": "stdout",
     "output_type": "stream",
     "text": [
      "[1] 4743   54\n"
     ]
    }
   ],
   "source": [
    "%%R\n",
    "two_years_violent <- read_csv(\"/home/jae/compas-analysis/data/compas-scores-two-years-violent.csv\")\n",
    "\n",
    "dim(two_years_violent)"
   ]
  },
  {
   "cell_type": "markdown",
   "metadata": {},
   "source": [
    "\n",
    "## Wrangling data \n"
   ]
  },
  {
   "cell_type": "markdown",
   "metadata": {},
   "source": [
    "### Create a function"
   ]
  },
  {
   "cell_type": "code",
   "execution_count": 4,
   "metadata": {},
   "outputs": [],
   "source": [
    "%%R\n",
    "\n",
    "wrangle_data <- function(data){\n",
    "\n",
    "df <- data %>% \n",
    "    \n",
    "    # Select variables \n",
    "    select(age, c_charge_degree, race, age_cat, v_score_text, sex, priors_count, \n",
    "         days_b_screening_arrest, v_decile_score, is_recid, two_year_recid) %>%            \n",
    "    # Filter rows \n",
    "    filter(days_b_screening_arrest <= 30,\n",
    "           days_b_screening_arrest >= -30, \n",
    "           is_recid != -1,\n",
    "           c_charge_degree != \"O\",\n",
    "           v_score_text != 'N/A') %>% \n",
    "    # Mutate variables \n",
    "    mutate(c_charge_degree = factor(c_charge_degree),\n",
    "           age_cat = factor(age_cat),\n",
    "           race = factor(race, levels = c(\"Caucasian\",\"African-American\",\"Hispanic\",\"Other\",\"Asian\",\"Native American\")),\n",
    "           sex = factor(sex, levels = c(\"Male\",\"Female\")),\n",
    "           v_score_text = factor(v_score_text, levels = c(\"Low\", \"Medium\", \"High\")),\n",
    "# I added this new variable to test whether measuring the DV as a binary or continuous var makes a difference \n",
    "           score_num = as.numeric(v_score_text)) %>%\n",
    "    # Rename variables \n",
    "    rename(crime = c_charge_degree,\n",
    "           gender = sex,\n",
    "           score = v_score_text)\n",
    "        \n",
    "return(df)}\n"
   ]
  },
  {
   "cell_type": "markdown",
   "metadata": {},
   "source": [
    "### Apply the function to the data "
   ]
  },
  {
   "cell_type": "code",
   "execution_count": 5,
   "metadata": {},
   "outputs": [],
   "source": [
    "%%R\n",
    "\n",
    "df <- wrangle_data(two_years_violent)"
   ]
  },
  {
   "cell_type": "code",
   "execution_count": 6,
   "metadata": {},
   "outputs": [
    {
     "name": "stdout",
     "output_type": "stream",
     "text": [
      " [1] \"age\"                     \"crime\"                  \n",
      " [3] \"race\"                    \"age_cat\"                \n",
      " [5] \"score\"                   \"gender\"                 \n",
      " [7] \"priors_count\"            \"days_b_screening_arrest\"\n",
      " [9] \"v_decile_score\"          \"is_recid\"               \n",
      "[11] \"two_year_recid\"          \"score_num\"              \n"
     ]
    }
   ],
   "source": [
    "%%R\n",
    "\n",
    "names(df)"
   ]
  },
  {
   "cell_type": "code",
   "execution_count": 7,
   "metadata": {},
   "outputs": [
    {
     "name": "stdout",
     "output_type": "stream",
     "text": [
      "\u001b[90m# A tibble: 5 x 12\u001b[39m\n",
      "    age crime race  age_cat score gender priors_count days_b_screenin…\n",
      "  \u001b[3m\u001b[90m<dbl>\u001b[39m\u001b[23m \u001b[3m\u001b[90m<fct>\u001b[39m\u001b[23m \u001b[3m\u001b[90m<fct>\u001b[39m\u001b[23m \u001b[3m\u001b[90m<fct>\u001b[39m\u001b[23m   \u001b[3m\u001b[90m<fct>\u001b[39m\u001b[23m \u001b[3m\u001b[90m<fct>\u001b[39m\u001b[23m         \u001b[3m\u001b[90m<dbl>\u001b[39m\u001b[23m            \u001b[3m\u001b[90m<dbl>\u001b[39m\u001b[23m\n",
      "\u001b[90m1\u001b[39m    69 F     Other Greate… Low   Male              0               -\u001b[31m1\u001b[39m\n",
      "\u001b[90m2\u001b[39m    34 F     Afri… 25 - 45 Low   Male              0               -\u001b[31m1\u001b[39m\n",
      "\u001b[90m3\u001b[39m    44 M     Other 25 - 45 Low   Male              0                0\n",
      "\u001b[90m4\u001b[39m    43 F     Other 25 - 45 Low   Male              3               -\u001b[31m1\u001b[39m\n",
      "\u001b[90m5\u001b[39m    39 M     Cauc… 25 - 45 Low   Female            0               -\u001b[31m1\u001b[39m\n",
      "\u001b[90m# … with 4 more variables: v_decile_score \u001b[3m\u001b[90m<dbl>\u001b[90m\u001b[23m, is_recid \u001b[3m\u001b[90m<dbl>\u001b[90m\u001b[23m,\n",
      "#   two_year_recid \u001b[3m\u001b[90m<dbl>\u001b[90m\u001b[23m, score_num \u001b[3m\u001b[90m<dbl>\u001b[90m\u001b[23m\u001b[39m\n"
     ]
    }
   ],
   "source": [
    "%%R\n",
    "\n",
    "head(df, 5) # Check whether the function works as planned "
   ]
  },
  {
   "cell_type": "markdown",
   "metadata": {},
   "source": [
    "## Descriptive analysis\n"
   ]
  },
  {
   "cell_type": "markdown",
   "metadata": {},
   "source": [
    "- Score distribution "
   ]
  },
  {
   "cell_type": "code",
   "execution_count": 8,
   "metadata": {},
   "outputs": [
    {
     "data": {
      "image/png": "[encoded data removed]"
     },
     "metadata": {},
     "output_type": "display_data"
    }
   ],
   "source": [
    "%%R\n",
    "\n",
    "# Set theme \n",
    "theme_set(theme_base())\n",
    "\n",
    "df %>%\n",
    "  group_by(score) %>%\n",
    "  count() %>%\n",
    "  ggplot(aes(x = score, y = n)) +\n",
    "    geom_col() +\n",
    "    labs(x = \"Score\",\n",
    "         y = \"Count\",\n",
    "         title = \"Score distribution\")"
   ]
  },
  {
   "cell_type": "markdown",
   "metadata": {},
   "source": [
    "\n",
    "- Score distribution by race\n"
   ]
  },
  {
   "cell_type": "code",
   "execution_count": 9,
   "metadata": {},
   "outputs": [
    {
     "data": {
      "image/png": "[encoded data removed]"
     },
     "metadata": {},
     "output_type": "display_data"
    }
   ],
   "source": [
    "%%R\n",
    "\n",
    "df %>%\n",
    "  ggplot(aes(ordered(v_decile_score))) + \n",
    "          geom_bar() +\n",
    "          facet_wrap(~race, nrow = 2) +\n",
    "          labs(x = \"Decile Score\",\n",
    "               y = \"Count\",\n",
    "               Title = \"Defendant's Decile Score\")"
   ]
  },
  {
   "cell_type": "markdown",
   "metadata": {},
   "source": [
    "## Modeling \n",
    "\n",
    "After filtering out bad rows, our first question is whether there is a significant difference in COMPAS scores between races. To do so we need to change some variables into factors, and run a logistic regression, comparing low scores to high scores."
   ]
  },
  {
   "cell_type": "code",
   "execution_count": 10,
   "metadata": {},
   "outputs": [],
   "source": [
    "%%R\n",
    "\n",
    "model_data <- function(data){\n",
    "\n",
    "# Logistic regression model\n",
    "lr_model <- glm(score ~ gender + age_cat + race + priors_count + crime + two_year_recid, \n",
    "             family = \"binomial\", data = data)\n",
    "\n",
    "# OLS\n",
    "ols_model1 <- lm(score_num ~ gender + age_cat + race + priors_count + crime + two_year_recid, \n",
    "             data = data)\n",
    "\n",
    "ols_model2 <- lm(v_decile_score ~ gender + age_cat + race + priors_count + crime + two_year_recid, \n",
    "             data = data)\n",
    "\n",
    "# Extract model outcomes with confidence intervals \n",
    "lr_est <- lr_model %>% \n",
    "    tidy(conf.int = TRUE) \n",
    "\n",
    "ols_est1 <- ols_model1 %>%\n",
    "    tidy(conf.int = TRUE) \n",
    "\n",
    "ols_est2 <- ols_model2 %>%\n",
    "    tidy(conf.int = TRUE) \n",
    "\n",
    "# AIC scores \n",
    "lr_AIC <- AIC(lr_model)\n",
    "ols_AIC1 <- AIC(ols_model1)\n",
    "ols_AIC2 <- AIC(ols_model2)\n",
    "    \n",
    "list(lr_est, ols_est1, ols_est2, lr_AIC, ols_AIC1, ols_AIC2)\n",
    "}\n",
    "    "
   ]
  },
  {
   "cell_type": "markdown",
   "metadata": {},
   "source": [
    "## Model comparisons "
   ]
  },
  {
   "cell_type": "code",
   "execution_count": 11,
   "metadata": {},
   "outputs": [
    {
     "name": "stdout",
     "output_type": "stream",
     "text": [
      "AIC score of logistic regression:3022.77943765996\n",
      "AIC score of OLS regression (with categorical DV):5414.49127581608\n",
      "AIC score of OLS regression (with continuous DV):15458.3861723106"
     ]
    }
   ],
   "source": [
    "%%R\n",
    "\n",
    "cat(paste0(\"AIC score of logistic regression:\", model_data(df)[4], \"\\n\",\n",
    "           \"AIC score of OLS regression (with categorical DV):\", model_data(df)[5], \"\\n\",\n",
    "           \"AIC score of OLS regression (with continuous DV):\", model_data(df)[6]))"
   ]
  },
  {
   "cell_type": "markdown",
   "metadata": {},
   "source": [
    "### Logistic regression model"
   ]
  },
  {
   "cell_type": "code",
   "execution_count": 12,
   "metadata": {},
   "outputs": [],
   "source": [
    "%%R\n",
    "\n",
    "lr_model <- model_data(df)[1] %>% data.frame()"
   ]
  },
  {
   "cell_type": "code",
   "execution_count": 13,
   "metadata": {
    "scrolled": true
   },
   "outputs": [
    {
     "data": {
      "image/png": "[encoded data removed]"
     },
     "metadata": {},
     "output_type": "display_data"
    }
   ],
   "source": [
    "%%R\n",
    "\n",
    "lr_model %>%\n",
    "  data.frame() %>%\n",
    "  filter(term != \"(Intercept)\") %>%\n",
    "  mutate(term = gsub(\"race|age_cat|gender\",\"\", term)) %>%\n",
    "  ggplot(aes(x = fct_reorder(term, estimate), y = estimate, ymax = conf.high, ymin = conf.low)) +\n",
    "  geom_pointrange() +\n",
    "  coord_flip() +\n",
    "  labs(y = \"Estimate\", x = \"\",\n",
    "      title = \"Logistic regression\") +\n",
    "  geom_hline(yintercept = 0, linetype = \"dashed\")"
   ]
  },
  {
   "cell_type": "code",
   "execution_count": 14,
   "metadata": {},
   "outputs": [],
   "source": [
    "%%R\n",
    "\n",
    "interpret_estimate <- function(model){\n",
    "    \n",
    "    # Control \n",
    "    intercept <- model$estimate[model$term == \"(Intercept)\"]\n",
    "    control <- exp(intercept) / (1 + exp(intercept))\n",
    "    \n",
    "    # Likelihood \n",
    "    model <- model %>% filter(term != \"(Intercept)\")\n",
    "    \n",
    "    model$likelihood <- (exp(model$estimate) / (1 - control + (control * exp(model$estimate))))\n",
    "    \n",
    "    return(model)\n",
    "}"
   ]
  },
  {
   "cell_type": "code",
   "execution_count": 15,
   "metadata": {},
   "outputs": [
    {
     "data": {
      "image/png": "[encoded data removed]"
     },
     "metadata": {},
     "output_type": "display_data"
    }
   ],
   "source": [
    "%%R\n",
    "\n",
    "interpret_estimate(lr_model) %>%\n",
    "    mutate(term = gsub(\"race|age_cat|gender\",\"\", term)) %>% \n",
    "    ggplot(aes(x = fct_reorder(term, likelihood), y = likelihood)) +\n",
    "        geom_point(size = 3) +\n",
    "        coord_flip() +\n",
    "        labs(y = \"Likelihood\", x = \"\",\n",
    "            title =\"Logistic regression\") +\n",
    "        scale_y_continuous(labels = scales::percent_format(accuracy = 1)) +\n",
    "        geom_hline(yintercept = 1, linetype = \"dashed\")"
   ]
  }
 ],
 "metadata": {
  "kernelspec": {
   "display_name": "Python 3",
   "language": "python",
   "name": "python3"
  },
  "language_info": {
   "codemirror_mode": {
    "name": "ipython",
    "version": 3
   },
   "file_extension": ".py",
   "mimetype": "text/x-python",
   "name": "python",
   "nbconvert_exporter": "python",
   "pygments_lexer": "ipython3",
   "version": "3.7.4"
  },
  "toc": {
   "base_numbering": 1,
   "nav_menu": {},
   "number_sections": true,
   "sideBar": true,
   "skip_h1_title": false,
   "title_cell": "Table of Contents",
   "title_sidebar": "Contents",
   "toc_cell": false,
   "toc_position": {
    "height": "calc(100% - 180px)",
    "left": "10px",
    "top": "150px",
    "width": "165px"
   },
   "toc_section_display": true,
   "toc_window_display": false
  }
 },
 "nbformat": 4,
 "nbformat_minor": 4
}
